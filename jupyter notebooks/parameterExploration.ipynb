{
 "cells": [
  {
   "cell_type": "markdown",
   "metadata": {
    "toc-hr-collapsed": true
   },
   "source": [
    "# Parameter Exploration - Assessing effects of FluxRETAP parameters on number of returned targets.\n",
    "\n",
    "FluxRETAP offers several adjustable parameters that directly influence the quantity of targets returned. A detailed description of these parameters can be found in the [FluxRETAP_Tutorial notebook](http://localhost:8890/lab/tree/FluxRETAP/jupyter%20notebooks/FluxRETAP_Tutorial.ipynb). \n",
    "\n",
    "This notebook serves as a guide for understanding how these parameters empirically effect the number of returned targets. In this notebook, we observe that the two parameters, **fluxRangeDiff** and **referenceCutOff**, have the most significant impact on the number of returned reactions across three genome-scale models. In contrast, parameters such as step size (**N**) and minimal biomass growth allowed (**optimalFraction**) have more limited effects."
   ]
  },
  {
   "cell_type": "markdown",
   "metadata": {},
   "source": [
    "## Test Case Description.\n",
    "\n",
    "\n",
    "Here, the FluxRETAP parameters are systematically varied across a spectrum of values in three distinct Genome-Scale Models (GSMs): *E. coli* iJO1366, *P. putida* iJN1463, and *S. cerevisiae* iMM904. The target molecule for each simulation is the heterologous product, indigoidine. Adding indogidine production to each GSM necessitates the inclusion of two reactions, APNPT (creating the indigoidine precursor) and the indigoidine production reaction. Towards the conclusion of the notebook, we compare the total count of returned reactions and the subset of returned reactions that have associated genes for each simulated case. We also tally the total number of active reactions (reactions carrying flux) to evalulate what percent of active reactions are returned as targets. "
   ]
  },
  {
   "cell_type": "markdown",
   "metadata": {
    "toc-hr-collapsed": true
   },
   "source": [
    "# Setup"
   ]
  },
  {
   "cell_type": "markdown",
   "metadata": {},
   "source": [
    "## Warning! \n",
    "This notebook takes ~2 hours to run on an Apple M2 Pro Notebook (36 FluxRETAP runs, 144 FVA simulations). \n",
    "\n",
    "\n",
    "The first step to use this notebook is to make sure that the required dependencies are installed.\n",
    "* cobra\n",
    "* scipy\n",
    "* pandas\n",
    "* numpy\n",
    "* matplotlib\n",
    "\n",
    "if the packages are not installed, you can use the following line from the command prompt to install:\n",
    "> pip install cobra scipy pandas numpy matplotlib"
   ]
  },
  {
   "cell_type": "markdown",
   "metadata": {},
   "source": [
    "## imports"
   ]
  },
  {
   "cell_type": "markdown",
   "metadata": {},
   "source": [
    "Imports for basic functionality:"
   ]
  },
  {
   "cell_type": "code",
   "execution_count": 1,
   "metadata": {},
   "outputs": [],
   "source": [
    "import cobra\n",
    "from cobra import Metabolite, Reaction\n",
    "from scipy import stats\n",
    "import numpy as np\n",
    "from scipy.stats import norm\n",
    "import math \n",
    "import timeit\n",
    "import os\n",
    "import sys\n",
    "import pandas as pd\n",
    "import matplotlib.pyplot as plt\n",
    "from cobra.flux_analysis import flux_variability_analysis as fva\n",
    "%matplotlib inline\n",
    "\n",
    "from IPython.display import Image   # Used to display images"
   ]
  },
  {
   "cell_type": "markdown",
   "metadata": {},
   "source": [
    "And here we load the FluxRETAP library, make sure you have the right path in libraryPath:"
   ]
  },
  {
   "cell_type": "code",
   "execution_count": 2,
   "metadata": {},
   "outputs": [
    {
     "name": "stdout",
     "output_type": "stream",
     "text": [
      "You are using cobra version:  0.29.0\n"
     ]
    }
   ],
   "source": [
    "libraryPath = \"../../FluxRETAP\"\n",
    "sys.path.append(libraryPath)\n",
    "\n",
    "from core.FluxRETAP import FluxRETAP"
   ]
  },
  {
   "cell_type": "markdown",
   "metadata": {
    "toc-hr-collapsed": true
   },
   "source": [
    "# *E. coli* simulations"
   ]
  },
  {
   "cell_type": "markdown",
   "metadata": {
    "tags": []
   },
   "source": [
    "## GSM preparation\n",
    "\n",
    "* load the GSM (*E. coli* model [iJO1366](https://www.ncbi.nlm.nih.gov/pmc/articles/PMC3261703/) modified to include the MVA pathway)\n",
    "* add the heterogenous indigoidine pathway\n",
    "\n",
    "for instructions on using cobra, visit the [COBRApy documentation](https://opencobra.github.io/cobrapy/)\n"
   ]
  },
  {
   "cell_type": "code",
   "execution_count": 3,
   "metadata": {},
   "outputs": [],
   "source": [
    "## set the path to the GSM to be used\n",
    "# E. coli GSM iJO1366\n",
    "file_name = '../models/iJO1366_MVA.json' \n",
    "\n",
    "# Load the GSM (json format)\n",
    "ecoli = cobra.io.load_json_model(file_name)\n",
    "\n",
    "model = ecoli.copy()"
   ]
  },
  {
   "cell_type": "markdown",
   "metadata": {
    "tags": []
   },
   "source": [
    "### Add heterologous indigoidine production pathway \n",
    "\n",
    "Two reactions are needed to enable indigoidine production:\n",
    "1. APNPT (creating indigoidine precursor)\n",
    "2. Indigoidine production reaction\n",
    "\n",
    "The next 5 cells below add the pathway and metabolites. "
   ]
  },
  {
   "cell_type": "code",
   "execution_count": 4,
   "metadata": {
    "tags": []
   },
   "outputs": [],
   "source": [
    "# initialize the reaction object and set the bounds (APNPT)\n",
    "APNPT = Reaction('APNPT')\n",
    "APNPT.name = 'ATP:pantetheine 4\\'-phosphotransferase'\n",
    "APNPT.subsystem = 'Cytosol'\n",
    "APNPT.lower_bound = -1000\n",
    "APNPT.upper_bound = 1000\n",
    "\n",
    "\n",
    "# initialize the reaction object and set the bounds (Indigoidine production)\n",
    "product_rxn = Reaction('indigoidine_production')\n",
    "product_rxn.name = 'Indigoidine production'\n",
    "product_rxn.subsystem = 'Cytosol'\n",
    "product_rxn.lower_bound = 0\n",
    "product_rxn.upper_bound = 1000\n",
    "\n",
    "# add reaction to the model\n",
    "model.add_reactions([product_rxn,APNPT])"
   ]
  },
  {
   "cell_type": "code",
   "execution_count": 5,
   "metadata": {
    "tags": []
   },
   "outputs": [],
   "source": [
    "# initialize non-native metabolites \n",
    "\n",
    "# metabolite one (Pantetheine)\n",
    "ptth_c = Metabolite(\n",
    "    'ptth_c',\n",
    "    formula='C11H22N2O4S',\n",
    "    name='Pantetheine',\n",
    "    compartment='c'\n",
    ")\n",
    "\n",
    "\n",
    "# metabolite two (Indigoidine)\n",
    "indigoidine_c = Metabolite(\n",
    "    'indigoidine_c',\n",
    "    formula ='C10H8N4O4',\n",
    "    name = 'Indigoidine',\n",
    "    compartment='c'\n",
    ")"
   ]
  },
  {
   "cell_type": "code",
   "execution_count": 6,
   "metadata": {},
   "outputs": [],
   "source": [
    "### add the stochiometrically balanced reaction to the model\n",
    "## note - the names are metabolites names as they appear in the GSM\n",
    "# APNPT reaction\n",
    "APNPT.add_metabolites({\n",
    "    'atp_c': -1,\n",
    "    ptth_c: -1,\n",
    "    'adp_c': 1,\n",
    "    'h_c':1,\n",
    "    'pan4p_c':1\n",
    "})\n",
    "\n",
    "# Indigodine product reaction\n",
    "product_rxn.add_metabolites({\n",
    "    'gln__L_c': -2,\n",
    "    'atp_c': -2,\n",
    "    'coa_c': -2,\n",
    "    'fmn_c': -2,\n",
    "    'o2_c': -2.5,\n",
    "    'pap_c':2,\n",
    "    'fmnh2_c': 2,\n",
    "    'ppi_c': 2,\n",
    "    'amp_c': 2,\n",
    "    ptth_c: 2,\n",
    "    'h2o_c': 1,\n",
    "    'pi_c': 2,\n",
    "    indigoidine_c: 1   \n",
    "})\n"
   ]
  },
  {
   "cell_type": "markdown",
   "metadata": {},
   "source": [
    "Verify that the reactions have been added and that the mass is balanced. "
   ]
  },
  {
   "cell_type": "code",
   "execution_count": 7,
   "metadata": {},
   "outputs": [
    {
     "data": {
      "text/plain": [
       "{}"
      ]
     },
     "execution_count": 7,
     "metadata": {},
     "output_type": "execute_result"
    }
   ],
   "source": [
    "# APNPT reaction\n",
    "model.reactions.get_by_id('APNPT').check_mass_balance()"
   ]
  },
  {
   "cell_type": "code",
   "execution_count": 8,
   "metadata": {},
   "outputs": [
    {
     "data": {
      "text/plain": [
       "{'charge': -6.0}"
      ]
     },
     "execution_count": 8,
     "metadata": {},
     "output_type": "execute_result"
    }
   ],
   "source": [
    "# Indigoidine product reaction\n",
    "model.reactions.indigoidine_production.check_mass_balance()"
   ]
  },
  {
   "cell_type": "code",
   "execution_count": 9,
   "metadata": {},
   "outputs": [],
   "source": [
    "# Create a demand reaction for indigoidine to allow it to accumulate in the model\n",
    "demand = model.add_boundary(model.metabolites.indigoidine_c,type=\"demand\")"
   ]
  },
  {
   "cell_type": "markdown",
   "metadata": {
    "tags": [],
    "toc-hr-collapsed": true
   },
   "source": [
    "## Simulations"
   ]
  },
  {
   "cell_type": "code",
   "execution_count": 10,
   "metadata": {},
   "outputs": [],
   "source": [
    "# start time for evalulating lenght of simulations\n",
    "start_time = timeit.default_timer()"
   ]
  },
  {
   "cell_type": "markdown",
   "metadata": {},
   "source": [
    "### Constant parameters\n",
    "\n",
    "parameters that are constant across all *E. coli* simulations. "
   ]
  },
  {
   "cell_type": "code",
   "execution_count": 11,
   "metadata": {
    "tags": []
   },
   "outputs": [],
   "source": [
    "# biomass equation\n",
    "biomassRxn = 'BIOMASS_Ec_iJO1366_core_53p95M'\n",
    "\n",
    "# substrate equation\n",
    "uptakeRxn = 'EX_glc__D_e'\n",
    "\n",
    "# product reaction\n",
    "productRxn = 'indigoidine_production'\n",
    "\n",
    "# reactions up and down regulated\n",
    "UpOrDown = 'Both'\n",
    "\n",
    "# return extra data\n",
    "returnGaussian=False "
   ]
  },
  {
   "cell_type": "code",
   "execution_count": 12,
   "metadata": {
    "tags": []
   },
   "outputs": [
    {
     "data": {
      "text/plain": [
       "{'',\n",
       " 'Alanine and Aspartate Metabolism',\n",
       " 'Alternate Carbon Metabolism',\n",
       " 'Anaplerotic Reactions',\n",
       " 'Arginine and Proline Metabolism',\n",
       " 'Cell Envelope Biosynthesis',\n",
       " 'Citric Acid Cycle',\n",
       " 'Cofactor and Prosthetic Group Biosynthesis',\n",
       " 'Cysteine Metabolism',\n",
       " 'Cytosol',\n",
       " 'Folate Metabolism',\n",
       " 'Glutamate Metabolism',\n",
       " 'Glycerophospholipid Metabolism',\n",
       " 'Glycine and Serine Metabolism',\n",
       " 'Glycolysis/Gluconeogenesis',\n",
       " 'Glyoxylate Metabolism',\n",
       " 'Histidine Metabolism',\n",
       " 'Lipopolysaccharide Biosynthesis / Recycling',\n",
       " 'Membrane Lipid Metabolism',\n",
       " 'Methionine Metabolism',\n",
       " 'Methylglyoxal Metabolism',\n",
       " 'Murein Biosynthesis',\n",
       " 'Murein Recycling',\n",
       " 'Nitrogen Metabolism',\n",
       " 'Nucleotide Salvage Pathway',\n",
       " 'Oxidative Phosphorylation',\n",
       " 'Pentose Phosphate Pathway',\n",
       " 'Purine and Pyrimidine Biosynthesis',\n",
       " 'Pyruvate Metabolism',\n",
       " 'S_Sterol_Metabolism',\n",
       " 'Threonine and Lysine Metabolism',\n",
       " 'Transport, Inner Membrane',\n",
       " 'Transport, Outer Membrane',\n",
       " 'Transport, Outer Membrane Porin',\n",
       " 'Tyrosine, Tryptophan, and Phenylalanine Metabolism',\n",
       " 'Unassigned',\n",
       " 'Valine, Leucine, and Isoleucine Metabolism',\n",
       " 'tRNA Charging'}"
      ]
     },
     "execution_count": 12,
     "metadata": {},
     "output_type": "execute_result"
    }
   ],
   "source": [
    "# subsystems to be utilized \n",
    "subsystems=[]\n",
    "for r in model.reactions:\n",
    "    subsystems.append(model.reactions.get_by_id(r.id).subsystem)\n",
    "\n",
    "desired_systems = set(subsystems)\n",
    "\n",
    "# remove demand, biomass, exchange reactions\n",
    "delete = ['Intracellular demand','Extracellular exchange','Biomass and maintenance functions','Inorganic Ion Transport and Metabolism']\n",
    "desired_systems = desired_systems - set(delete)\n",
    "desired_systems"
   ]
  },
  {
   "cell_type": "code",
   "execution_count": null,
   "metadata": {},
   "outputs": [],
   "source": []
  },
  {
   "cell_type": "markdown",
   "metadata": {
    "tags": []
   },
   "source": [
    "### Simulation a - no cutoffs"
   ]
  },
  {
   "cell_type": "code",
   "execution_count": 13,
   "metadata": {
    "tags": []
   },
   "outputs": [
    {
     "name": "stdout",
     "output_type": "stream",
     "text": [
      "Fractions of flux: [0.0, 0.1, 0.9, 1.0]\n",
      "Maximum flux to product: 4.374528301886791\n",
      "\n",
      "starting FVA simulations . . .\n",
      "25.0 % complete\n",
      "50.0 % complete\n",
      "75.0 % complete\n",
      "100.0 % complete\n",
      "--- 236.48309898376465 seconds ---\n",
      "\n",
      "Calculating significance scores\n",
      "##################\n",
      "Your cuttoff score is 0\n",
      "The median reaction score in the dataset is 449 and the average is 6612074258\n",
      "##################\n",
      "\n"
     ]
    }
   ],
   "source": [
    "referenceCutOff = 0\n",
    "fluxRangeDiff=0\n",
    "optimalFraction=0\n",
    "N=10\n",
    "indigoidine = FluxRETAP.getRecommendations(model=model,\n",
    "                                 UpOrDown=UpOrDown,\n",
    "                                 productRxn=productRxn,\n",
    "                                 carbonSourceRxn=uptakeRxn,\n",
    "                                 biomassRxn=biomassRxn,\n",
    "                                 desiredSystems=desired_systems,\n",
    "                                 N=N, \n",
    "                                 referenceCutOff=referenceCutOff,\n",
    "                                 returnGaussian=returnGaussian,\n",
    "                                 optimalFraction=optimalFraction,\n",
    "                                 fluxRangeDiff=fluxRangeDiff)\n",
    "\n"
   ]
  },
  {
   "cell_type": "code",
   "execution_count": 14,
   "metadata": {},
   "outputs": [
    {
     "name": "stdout",
     "output_type": "stream",
     "text": [
      "total reactions returned :  942\n",
      "reactions returned with genes:  869\n"
     ]
    }
   ],
   "source": [
    "# store the number of returned reactions and returned reactions with associated genes.\n",
    "a = len(indigoidine)\n",
    "a1 = len(indigoidine[indigoidine['bgene']!=\"\"])\n",
    "print('total reactions returned : ',len(indigoidine))\n",
    "\n",
    "print('reactions returned with genes: ',len(indigoidine[indigoidine['bgene']!=\"\"]))\n",
    "\n",
    "# # print number of reactions per subsystem\n",
    "# subsystems=[]\n",
    "# for r in indigoidine.index:\n",
    "#     subsystems.append(model.reactions.get_by_id(r).subsystem)\n",
    "\n",
    "# for i in set(subsystems):\n",
    "#     print(i)\n",
    "#     print((subsystems.count(i)))"
   ]
  },
  {
   "cell_type": "markdown",
   "metadata": {
    "tags": []
   },
   "source": [
    "### Simulation b - biomass 50% "
   ]
  },
  {
   "cell_type": "code",
   "execution_count": 15,
   "metadata": {},
   "outputs": [
    {
     "name": "stdout",
     "output_type": "stream",
     "text": [
      "Fractions of flux: [0.0, 0.1, 0.9, 1.0]\n",
      "Maximum flux to product: 2.193092078411279\n",
      "\n",
      "starting FVA simulations . . .\n",
      "25.0 % complete\n",
      "50.0 % complete\n",
      "75.0 % complete\n",
      "100.0 % complete\n",
      "--- 172.2629361152649 seconds ---\n",
      "\n",
      "Calculating significance scores\n",
      "##################\n",
      "Your cuttoff score is 0\n",
      "The median reaction score in the dataset is 471 and the average is 5674431110\n",
      "##################\n",
      "\n"
     ]
    }
   ],
   "source": [
    "referenceCutOff = 0\n",
    "fluxRangeDiff=0\n",
    "optimalFraction=0.5\n",
    "N=10\n",
    "indigoidine = FluxRETAP.getRecommendations(model=model,\n",
    "                                 UpOrDown=UpOrDown,\n",
    "                                 productRxn=productRxn,\n",
    "                                 carbonSourceRxn=uptakeRxn,\n",
    "                                 biomassRxn=biomassRxn,\n",
    "                                 desiredSystems=desired_systems,\n",
    "                                 N=N, \n",
    "                                 referenceCutOff=referenceCutOff,\n",
    "                                 returnGaussian=returnGaussian,\n",
    "                                 optimalFraction=optimalFraction,\n",
    "                                 fluxRangeDiff=fluxRangeDiff)\n"
   ]
  },
  {
   "cell_type": "code",
   "execution_count": 16,
   "metadata": {},
   "outputs": [
    {
     "name": "stdout",
     "output_type": "stream",
     "text": [
      "total reactions returned :  945\n",
      "reactions returned with genes:  872\n"
     ]
    }
   ],
   "source": [
    "# store the number of returned reactions and returned reactions with associated genes.\n",
    "\n",
    "b = len(indigoidine)\n",
    "b1 = len(indigoidine[indigoidine['bgene']!=\"\"])\n",
    "print('total reactions returned : ',len(indigoidine))\n",
    "\n",
    "print('reactions returned with genes: ',len(indigoidine[indigoidine['bgene']!=\"\"]))\n",
    "\n",
    "# # print number of reactions per subsystem\n",
    "# subsystems=[]\n",
    "# for r in indigoidine.index:\n",
    "#     subsystems.append(model.reactions.get_by_id(r).subsystem)\n",
    "\n",
    "# for i in set(subsystems):\n",
    "#     print(i)\n",
    "#     print((subsystems.count(i)))"
   ]
  },
  {
   "cell_type": "markdown",
   "metadata": {},
   "source": [
    "### Simulation c - biomass 10%"
   ]
  },
  {
   "cell_type": "code",
   "execution_count": 17,
   "metadata": {},
   "outputs": [
    {
     "name": "stdout",
     "output_type": "stream",
     "text": [
      "Fractions of flux: [0.0, 0.1, 0.9, 1.0]\n",
      "Maximum flux to product: 3.9402919823724334\n",
      "\n",
      "starting FVA simulations . . .\n",
      "25.0 % complete\n",
      "50.0 % complete\n",
      "75.0 % complete\n",
      "100.0 % complete\n",
      "--- 164.72560501098633 seconds ---\n",
      "\n",
      "Calculating significance scores\n",
      "##################\n",
      "Your cuttoff score is 0\n",
      "The median reaction score in the dataset is 446 and the average is 6175266002\n",
      "##################\n",
      "\n"
     ]
    }
   ],
   "source": [
    "referenceCutOff = 0\n",
    "fluxRangeDiff=0\n",
    "optimalFraction=0.1\n",
    "N=10\n",
    "indigoidine = FluxRETAP.getRecommendations(model=model,\n",
    "                                 UpOrDown=UpOrDown,\n",
    "                                 productRxn=productRxn,\n",
    "                                 carbonSourceRxn=uptakeRxn,\n",
    "                                 biomassRxn=biomassRxn,\n",
    "                                 desiredSystems=desired_systems,\n",
    "                                 N=N, \n",
    "                                 referenceCutOff=referenceCutOff,\n",
    "                                 \n",
    "                                 returnGaussian=returnGaussian,\n",
    "                                 optimalFraction=optimalFraction,\n",
    "                                 fluxRangeDiff=fluxRangeDiff)\n"
   ]
  },
  {
   "cell_type": "code",
   "execution_count": 18,
   "metadata": {},
   "outputs": [
    {
     "name": "stdout",
     "output_type": "stream",
     "text": [
      "total reactions returned :  946\n",
      "reactions returned with genes:  873\n"
     ]
    }
   ],
   "source": [
    "# store the number of returned reactions and returned reactions with associated genes.\n",
    "\n",
    "c= len(indigoidine)\n",
    "c1 = len(indigoidine[indigoidine['bgene']!=\"\"])\n",
    "print('total reactions returned : ',len(indigoidine))\n",
    "\n",
    "print('reactions returned with genes: ',len(indigoidine[indigoidine['bgene']!=\"\"]))\n",
    "\n",
    "# # print number of reactions per subsystem\n",
    "# subsystems=[]\n",
    "# for r in indigoidine.index:\n",
    "#     subsystems.append(model.reactions.get_by_id(r).subsystem)\n",
    "\n",
    "# for i in set(subsystems):\n",
    "#     print(i)\n",
    "#     print((subsystems.count(i)))"
   ]
  },
  {
   "cell_type": "markdown",
   "metadata": {},
   "source": [
    "### Simulation d - biomass 90%"
   ]
  },
  {
   "cell_type": "code",
   "execution_count": 19,
   "metadata": {},
   "outputs": [
    {
     "name": "stdout",
     "output_type": "stream",
     "text": [
      "Fractions of flux: [0.0, 0.1, 0.9, 1.0]\n",
      "Maximum flux to product: 0.43867685225147124\n",
      "\n",
      "starting FVA simulations . . .\n",
      "25.0 % complete\n",
      "50.0 % complete\n",
      "75.0 % complete\n",
      "100.0 % complete\n",
      "--- 137.16003012657166 seconds ---\n",
      "\n",
      "Calculating significance scores\n",
      "##################\n",
      "Your cuttoff score is 0\n",
      "The median reaction score in the dataset is 547 and the average is 1401904137\n",
      "##################\n",
      "\n"
     ]
    }
   ],
   "source": [
    "referenceCutOff = 0\n",
    "fluxRangeDiff=0\n",
    "optimalFraction=0.9\n",
    "N=10\n",
    "indigoidine = FluxRETAP.getRecommendations(model=model,\n",
    "                                 UpOrDown=UpOrDown,\n",
    "                                 productRxn=productRxn,\n",
    "                                 carbonSourceRxn=uptakeRxn,\n",
    "                                 biomassRxn=biomassRxn,\n",
    "                                 desiredSystems=desired_systems,\n",
    "                                 N=N, \n",
    "                                 referenceCutOff=referenceCutOff,\n",
    "                                 returnGaussian=returnGaussian,\n",
    "                                 optimalFraction=optimalFraction,\n",
    "                                 fluxRangeDiff=fluxRangeDiff)\n"
   ]
  },
  {
   "cell_type": "code",
   "execution_count": 20,
   "metadata": {},
   "outputs": [
    {
     "name": "stdout",
     "output_type": "stream",
     "text": [
      "total reactions returned :  942\n",
      "reactions returned with genes:  869\n"
     ]
    }
   ],
   "source": [
    "# store the number of returned reactions and returned reactions with associated genes.\n",
    "\n",
    "d = len(indigoidine)\n",
    "d1 = len(indigoidine[indigoidine['bgene']!=\"\"])\n",
    "print('total reactions returned : ',len(indigoidine))\n",
    "\n",
    "print('reactions returned with genes: ',len(indigoidine[indigoidine['bgene']!=\"\"]))\n",
    "\n",
    "# # print number of reactions per subsystem\n",
    "# subsystems=[]\n",
    "# for r in indigoidine.index:\n",
    "#     subsystems.append(model.reactions.get_by_id(r).subsystem)\n",
    "\n",
    "# for i in set(subsystems):\n",
    "#     print(i)\n",
    "#     print((subsystems.count(i)))"
   ]
  },
  {
   "cell_type": "markdown",
   "metadata": {
    "tags": []
   },
   "source": [
    "\n",
    "\n",
    "### Simulation e - fluxRangeDiff = 0.01 $\\frac{mmol}{gDCW.h} $"
   ]
  },
  {
   "cell_type": "code",
   "execution_count": 21,
   "metadata": {},
   "outputs": [
    {
     "name": "stdout",
     "output_type": "stream",
     "text": [
      "Fractions of flux: [0.0, 0.1, 0.9, 1.0]\n",
      "Maximum flux to product: 4.374528301886773\n",
      "\n",
      "starting FVA simulations . . .\n",
      "25.0 % complete\n",
      "50.0 % complete\n",
      "75.0 % complete\n",
      "100.0 % complete\n",
      "--- 150.40874123573303 seconds ---\n",
      "\n",
      "Calculating significance scores\n",
      "##################\n",
      "Your cuttoff score is 0\n",
      "The median reaction score in the dataset is 449 and the average is 6612074268\n",
      "##################\n",
      "\n"
     ]
    }
   ],
   "source": [
    "referenceCutOff = 0\n",
    "fluxRangeDiff=0.01\n",
    "optimalFraction=0\n",
    "N=10\n",
    "indigoidine = FluxRETAP.getRecommendations(model=model,\n",
    "                                 UpOrDown=UpOrDown,\n",
    "                                 productRxn=productRxn,\n",
    "                                 carbonSourceRxn=uptakeRxn,\n",
    "                                 biomassRxn=biomassRxn,\n",
    "                                 desiredSystems=desired_systems,\n",
    "                                 N=N, \n",
    "                                 referenceCutOff=referenceCutOff,\n",
    "                                 \n",
    "                                 returnGaussian=returnGaussian,\n",
    "                                 optimalFraction=optimalFraction,\n",
    "                                 fluxRangeDiff=fluxRangeDiff)\n"
   ]
  },
  {
   "cell_type": "code",
   "execution_count": 22,
   "metadata": {},
   "outputs": [
    {
     "name": "stdout",
     "output_type": "stream",
     "text": [
      "total reactions returned :  320\n",
      "reactions returned with genes:  301\n"
     ]
    }
   ],
   "source": [
    "# store the number of returned reactions and returned reactions with associated genes.\n",
    "\n",
    "e = len(indigoidine)\n",
    "e1 = len(indigoidine[indigoidine['bgene']!=\"\"])\n",
    "print('total reactions returned : ',len(indigoidine))\n",
    "\n",
    "print('reactions returned with genes: ',len(indigoidine[indigoidine['bgene']!=\"\"]))\n",
    "\n",
    "# # print number of reactions per subsystem\n",
    "# subsystems=[]\n",
    "# for r in indigoidine.index:\n",
    "#     subsystems.append(model.reactions.get_by_id(r).subsystem)\n",
    "\n",
    "# for i in set(subsystems):\n",
    "#     print(i)\n",
    "#     print((subsystems.count(i)))"
   ]
  },
  {
   "cell_type": "markdown",
   "metadata": {},
   "source": [
    "### Simulation f - fluxRangeDiff $\\frac{mmol}{gDCW.h} $"
   ]
  },
  {
   "cell_type": "code",
   "execution_count": 23,
   "metadata": {},
   "outputs": [
    {
     "name": "stdout",
     "output_type": "stream",
     "text": [
      "Fractions of flux: [0.0, 0.1, 0.9, 1.0]\n",
      "Maximum flux to product: 4.3745283018867855\n",
      "\n",
      "starting FVA simulations . . .\n",
      "25.0 % complete\n",
      "50.0 % complete\n",
      "75.0 % complete\n",
      "100.0 % complete\n",
      "--- 142.85184907913208 seconds ---\n",
      "\n",
      "Calculating significance scores\n",
      "##################\n",
      "Your cuttoff score is 0\n",
      "The median reaction score in the dataset is 449 and the average is 6612074263\n",
      "##################\n",
      "\n"
     ]
    }
   ],
   "source": [
    "referenceCutOff = 0\n",
    "fluxRangeDiff=0.05\n",
    "optimalFraction=0\n",
    "N=10\n",
    "indigoidine = FluxRETAP.getRecommendations(model=model,\n",
    "                                 UpOrDown=UpOrDown,\n",
    "                                 productRxn=productRxn,\n",
    "                                 carbonSourceRxn=uptakeRxn,\n",
    "                                 biomassRxn=biomassRxn,\n",
    "                                 desiredSystems=desired_systems,\n",
    "                                 N=N, \n",
    "                                 referenceCutOff=referenceCutOff,\n",
    "                                 \n",
    "                                 returnGaussian=returnGaussian,\n",
    "                                 optimalFraction=optimalFraction,\n",
    "                                 fluxRangeDiff=fluxRangeDiff)\n"
   ]
  },
  {
   "cell_type": "code",
   "execution_count": 24,
   "metadata": {},
   "outputs": [
    {
     "name": "stdout",
     "output_type": "stream",
     "text": [
      "total reactions returned :  66\n",
      "reactions returned with genes:  61\n"
     ]
    }
   ],
   "source": [
    "# store the number of returned reactions and returned reactions with associated genes.\n",
    "\n",
    "f = len(indigoidine)\n",
    "f1 = len(indigoidine[indigoidine['bgene']!=\"\"])\n",
    "print('total reactions returned : ',len(indigoidine))\n",
    "\n",
    "print('reactions returned with genes: ',len(indigoidine[indigoidine['bgene']!=\"\"]))\n",
    "\n",
    "\n",
    "# # print number of reactions per subsystem\n",
    "# subsystems=[]\n",
    "# for r in indigoidine.index:\n",
    "#     subsystems.append(model.reactions.get_by_id(r).subsystem)\n",
    "\n",
    "# for i in set(subsystems):\n",
    "#     print(i)\n",
    "#     print((subsystems.count(i)))"
   ]
  },
  {
   "cell_type": "markdown",
   "metadata": {},
   "source": [
    "### Simulation g - fluxRangeDiff = 0.1 $\\frac{mmol}{gDCW.h} $"
   ]
  },
  {
   "cell_type": "code",
   "execution_count": 25,
   "metadata": {},
   "outputs": [
    {
     "name": "stdout",
     "output_type": "stream",
     "text": [
      "Fractions of flux: [0.0, 0.1, 0.9, 1.0]\n",
      "Maximum flux to product: 4.374528301886782\n",
      "\n",
      "starting FVA simulations . . .\n",
      "25.0 % complete\n",
      "50.0 % complete\n",
      "75.0 % complete\n",
      "100.0 % complete\n",
      "--- 141.8318018913269 seconds ---\n",
      "\n",
      "Calculating significance scores\n",
      "##################\n",
      "Your cuttoff score is 0\n",
      "The median reaction score in the dataset is 449 and the average is 6612074264\n",
      "##################\n",
      "\n"
     ]
    }
   ],
   "source": [
    "referenceCutOff = 0\n",
    "fluxRangeDiff=0.1\n",
    "optimalFraction=0\n",
    "N=10\n",
    "indigoidine = FluxRETAP.getRecommendations(model=model,\n",
    "                                 UpOrDown=UpOrDown,\n",
    "                                 productRxn=productRxn,\n",
    "                                 carbonSourceRxn=uptakeRxn,\n",
    "                                 biomassRxn=biomassRxn,\n",
    "                                 desiredSystems=desired_systems,\n",
    "                                 N=N, \n",
    "                                 referenceCutOff=referenceCutOff,\n",
    "                                 \n",
    "                                 returnGaussian=returnGaussian,\n",
    "                                 optimalFraction=optimalFraction,\n",
    "                                 fluxRangeDiff=fluxRangeDiff)\n"
   ]
  },
  {
   "cell_type": "code",
   "execution_count": 26,
   "metadata": {},
   "outputs": [
    {
     "name": "stdout",
     "output_type": "stream",
     "text": [
      "total reactions returned :  50\n",
      "reactions returned with genes:  46\n"
     ]
    }
   ],
   "source": [
    "# store the number of returned reactions and returned reactions with associated genes.\n",
    "\n",
    "g = len(indigoidine)\n",
    "g1 = len(indigoidine[indigoidine['bgene']!=\"\"])\n",
    "print('total reactions returned : ',len(indigoidine))\n",
    "\n",
    "print('reactions returned with genes: ',len(indigoidine[indigoidine['bgene']!=\"\"]))\n",
    "\n",
    "# # print number of reactions per subsystem\n",
    "# subsystems=[]\n",
    "# for r in indigoidine.index:\n",
    "#     subsystems.append(model.reactions.get_by_id(r).subsystem)\n",
    "\n",
    "# for i in set(subsystems):\n",
    "#     print(i)\n",
    "#     print((subsystems.count(i)))"
   ]
  },
  {
   "cell_type": "markdown",
   "metadata": {
    "tags": []
   },
   "source": [
    "### Simulation h - referenceCutOff = 500"
   ]
  },
  {
   "cell_type": "code",
   "execution_count": 27,
   "metadata": {},
   "outputs": [
    {
     "name": "stdout",
     "output_type": "stream",
     "text": [
      "Fractions of flux: [0.0, 0.1, 0.9, 1.0]\n",
      "Maximum flux to product: 4.374528301886785\n",
      "\n",
      "starting FVA simulations . . .\n",
      "25.0 % complete\n",
      "50.0 % complete\n",
      "75.0 % complete\n",
      "100.0 % complete\n",
      "--- 141.25424790382385 seconds ---\n",
      "\n",
      "Calculating significance scores\n",
      "##################\n",
      "Your cuttoff score is 500\n",
      "The median reaction score in the dataset is 449 and the average is 6612074261\n",
      "##################\n",
      "\n"
     ]
    }
   ],
   "source": [
    "referenceCutOff = 500\n",
    "fluxRangeDiff=0\n",
    "optimalFraction=0\n",
    "N=10\n",
    "indigoidine = FluxRETAP.getRecommendations(model=model,\n",
    "                                 UpOrDown=UpOrDown,\n",
    "                                 productRxn=productRxn,\n",
    "                                 carbonSourceRxn=uptakeRxn,\n",
    "                                 biomassRxn=biomassRxn,\n",
    "                                 desiredSystems=desired_systems,\n",
    "                                 N=N, \n",
    "                                 referenceCutOff=referenceCutOff,\n",
    "                                 \n",
    "                                 returnGaussian=returnGaussian,\n",
    "                                 optimalFraction=optimalFraction,\n",
    "                                 fluxRangeDiff=fluxRangeDiff)\n"
   ]
  },
  {
   "cell_type": "code",
   "execution_count": 28,
   "metadata": {},
   "outputs": [
    {
     "name": "stdout",
     "output_type": "stream",
     "text": [
      "total reactions returned :  112\n",
      "reactions returned with genes:  107\n"
     ]
    }
   ],
   "source": [
    "# store the number of returned reactions and returned reactions with associated genes.\n",
    "\n",
    "h = len(indigoidine)\n",
    "h1 = len(indigoidine[indigoidine['bgene']!=\"\"])\n",
    "print('total reactions returned : ',len(indigoidine))\n",
    "\n",
    "print('reactions returned with genes: ',len(indigoidine[indigoidine['bgene']!=\"\"]))\n",
    "\n",
    "# # print number of reactions per subsystem\n",
    "# subsystems=[]\n",
    "# for r in indigoidine.index:\n",
    "#     subsystems.append(model.reactions.get_by_id(r).subsystem)\n",
    "\n",
    "# for i in set(subsystems):\n",
    "#     print(i)\n",
    "#     print((subsystems.count(i)))"
   ]
  },
  {
   "cell_type": "markdown",
   "metadata": {},
   "source": [
    "### Simulation j - referenceCutOff = 1500\n",
    "no simulation 'i', 'i' is used as a variable used in a for loop"
   ]
  },
  {
   "cell_type": "code",
   "execution_count": 29,
   "metadata": {},
   "outputs": [
    {
     "name": "stdout",
     "output_type": "stream",
     "text": [
      "Fractions of flux: [0.0, 0.1, 0.9, 1.0]\n",
      "Maximum flux to product: 4.3745283018868095\n",
      "\n",
      "starting FVA simulations . . .\n",
      "25.0 % complete\n",
      "50.0 % complete\n",
      "75.0 % complete\n",
      "100.0 % complete\n",
      "--- 141.7411081790924 seconds ---\n",
      "\n",
      "Calculating significance scores\n",
      "##################\n",
      "Your cuttoff score is 1500\n",
      "The median reaction score in the dataset is 449 and the average is 6612074262\n",
      "##################\n",
      "\n"
     ]
    }
   ],
   "source": [
    "referenceCutOff = 1500\n",
    "fluxRangeDiff=0\n",
    "optimalFraction=0\n",
    "N=10\n",
    "indigoidine = FluxRETAP.getRecommendations(model=model,\n",
    "                                 UpOrDown=UpOrDown,\n",
    "                                 productRxn=productRxn,\n",
    "                                 carbonSourceRxn=uptakeRxn,\n",
    "                                 biomassRxn=biomassRxn,\n",
    "                                 desiredSystems=desired_systems,\n",
    "                                 N=N, \n",
    "                                 referenceCutOff=referenceCutOff,\n",
    "                                 \n",
    "                                 returnGaussian=returnGaussian,\n",
    "                                 optimalFraction=optimalFraction,\n",
    "                                 fluxRangeDiff=fluxRangeDiff)\n"
   ]
  },
  {
   "cell_type": "code",
   "execution_count": 30,
   "metadata": {},
   "outputs": [
    {
     "name": "stdout",
     "output_type": "stream",
     "text": [
      "total reactions returned :  56\n",
      "reactions returned with genes:  54\n"
     ]
    }
   ],
   "source": [
    "# store the number of returned reactions and returned reactions with associated genes.\n",
    "\n",
    "j = len(indigoidine)\n",
    "j1 = len(indigoidine[indigoidine['bgene']!=\"\"])\n",
    "print('total reactions returned : ',len(indigoidine))\n",
    "\n",
    "print('reactions returned with genes: ',len(indigoidine[indigoidine['bgene']!=\"\"]))\n",
    "\n",
    "\n",
    "# # print number of reactions per subsystem\n",
    "# subsystems=[]\n",
    "# for r in indigoidine.index:\n",
    "#     subsystems.append(model.reactions.get_by_id(r).subsystem)\n",
    "\n",
    "# for i in set(subsystems):\n",
    "#     print(i)\n",
    "#     print((subsystems.count(i)))"
   ]
  },
  {
   "cell_type": "markdown",
   "metadata": {},
   "source": [
    "### Simulation k - referenceCutOff = 5000"
   ]
  },
  {
   "cell_type": "code",
   "execution_count": 31,
   "metadata": {},
   "outputs": [
    {
     "name": "stdout",
     "output_type": "stream",
     "text": [
      "Fractions of flux: [0.0, 0.1, 0.9, 1.0]\n",
      "Maximum flux to product: 4.374528301886768\n",
      "\n",
      "starting FVA simulations . . .\n",
      "25.0 % complete\n",
      "50.0 % complete\n",
      "75.0 % complete\n",
      "100.0 % complete\n",
      "--- 147.36258506774902 seconds ---\n",
      "\n",
      "Calculating significance scores\n",
      "##################\n",
      "Your cuttoff score is 5000\n",
      "The median reaction score in the dataset is 449 and the average is 6612074266\n",
      "##################\n",
      "\n"
     ]
    }
   ],
   "source": [
    "referenceCutOff = 5000\n",
    "fluxRangeDiff=0\n",
    "optimalFraction=0\n",
    "N=10\n",
    "indigoidine = FluxRETAP.getRecommendations(model=model,\n",
    "                                 UpOrDown=UpOrDown,\n",
    "                                 productRxn=productRxn,\n",
    "                                 carbonSourceRxn=uptakeRxn,\n",
    "                                 biomassRxn=biomassRxn,\n",
    "                                 desiredSystems=desired_systems,\n",
    "                                 N=N, \n",
    "                                 referenceCutOff=referenceCutOff,\n",
    "                                 \n",
    "                                 returnGaussian=returnGaussian,\n",
    "                                 optimalFraction=optimalFraction,\n",
    "                                 fluxRangeDiff=fluxRangeDiff)\n"
   ]
  },
  {
   "cell_type": "code",
   "execution_count": 32,
   "metadata": {},
   "outputs": [
    {
     "name": "stdout",
     "output_type": "stream",
     "text": [
      "total reactions returned :  41\n",
      "reactions returned with genes:  38\n"
     ]
    }
   ],
   "source": [
    "# store the number of returned reactions and returned reactions with associated genes.\n",
    "\n",
    "k = len(indigoidine)\n",
    "k1 = len(indigoidine[indigoidine['bgene']!=\"\"])\n",
    "print('total reactions returned : ',len(indigoidine))\n",
    "\n",
    "print('reactions returned with genes: ',len(indigoidine[indigoidine['bgene']!=\"\"]))\n",
    "\n",
    "# # print number of reactions per subsystem\n",
    "# subsystems=[]\n",
    "# for r in indigoidine.index:\n",
    "#     subsystems.append(model.reactions.get_by_id(r).subsystem)\n",
    "\n",
    "# for i in set(subsystems):\n",
    "#     print(i)\n",
    "#     print((subsystems.count(i)))"
   ]
  },
  {
   "cell_type": "markdown",
   "metadata": {
    "tags": []
   },
   "source": [
    "### Simulation m - N=100"
   ]
  },
  {
   "cell_type": "code",
   "execution_count": 33,
   "metadata": {},
   "outputs": [
    {
     "name": "stdout",
     "output_type": "stream",
     "text": [
      "Fractions of flux: [0.0, 0.01, 0.99, 1.0]\n",
      "Maximum flux to product: 4.37452830188678\n",
      "\n",
      "starting FVA simulations . . .\n",
      "25.0 % complete\n",
      "50.0 % complete\n",
      "75.0 % complete\n",
      "100.0 % complete\n",
      "--- 140.95221185684204 seconds ---\n",
      "\n",
      "Calculating significance scores\n",
      "##################\n",
      "Your cuttoff score is 0\n",
      "The median reaction score in the dataset is 457 and the average is inf\n",
      "##################\n",
      "\n"
     ]
    }
   ],
   "source": [
    "referenceCutOff = 0\n",
    "fluxRangeDiff=0\n",
    "optimalFraction=0\n",
    "N=100\n",
    "indigoidine = FluxRETAP.getRecommendations(model=model,\n",
    "                                 UpOrDown=UpOrDown,\n",
    "                                 productRxn=productRxn,\n",
    "                                 carbonSourceRxn=uptakeRxn,\n",
    "                                 biomassRxn=biomassRxn,\n",
    "                                 desiredSystems=desired_systems,\n",
    "                                 N=N, \n",
    "                                 referenceCutOff=referenceCutOff,\n",
    "                                 \n",
    "                                 returnGaussian=returnGaussian,\n",
    "                                 optimalFraction=optimalFraction,\n",
    "                                 fluxRangeDiff=fluxRangeDiff)\n"
   ]
  },
  {
   "cell_type": "code",
   "execution_count": 34,
   "metadata": {
    "tags": []
   },
   "outputs": [
    {
     "name": "stdout",
     "output_type": "stream",
     "text": [
      "total reactions returned :  944\n",
      "reactions returned with genes:  871\n"
     ]
    }
   ],
   "source": [
    "\n",
    "# store the number of returned reactions and returned reactions with associated genes.\n",
    "m = len(indigoidine)\n",
    "m1 = len(indigoidine[indigoidine['bgene']!=\"\"])\n",
    "print('total reactions returned : ',len(indigoidine))\n",
    "\n",
    "print('reactions returned with genes: ',len(indigoidine[indigoidine['bgene']!=\"\"]))\n",
    "\n",
    "# # print number of reactions per subsystem\n",
    "# subsystems=[]\n",
    "# for r in indigoidine.index:\n",
    "#     subsystems.append(model.reactions.get_by_id(r).subsystem)\n",
    "\n",
    "# for i in set(subsystems):\n",
    "#     print(i)\n",
    "#     print((subsystems.count(i)))"
   ]
  },
  {
   "cell_type": "markdown",
   "metadata": {},
   "source": [
    "### Simulation n - N = 100"
   ]
  },
  {
   "cell_type": "code",
   "execution_count": 35,
   "metadata": {},
   "outputs": [
    {
     "name": "stdout",
     "output_type": "stream",
     "text": [
      "Fractions of flux: [0.0, 0.001, 0.999, 1.0]\n",
      "Maximum flux to product: 4.374528301886783\n",
      "\n",
      "starting FVA simulations . . .\n",
      "25.0 % complete\n",
      "50.0 % complete\n",
      "75.0 % complete\n",
      "100.0 % complete\n",
      "--- 138.99602103233337 seconds ---\n",
      "\n",
      "Calculating significance scores\n",
      "##################\n",
      "Your cuttoff score is 0\n",
      "The median reaction score in the dataset is 458 and the average is inf\n",
      "##################\n",
      "\n"
     ]
    }
   ],
   "source": [
    "referenceCutOff = 0\n",
    "fluxRangeDiff=0\n",
    "optimalFraction=0\n",
    "N=1000\n",
    "indigoidine = FluxRETAP.getRecommendations(model=model,\n",
    "                                 UpOrDown=UpOrDown,\n",
    "                                 productRxn=productRxn,\n",
    "                                 carbonSourceRxn=uptakeRxn,\n",
    "                                 biomassRxn=biomassRxn,\n",
    "                                 desiredSystems=desired_systems,\n",
    "                                 N=N, \n",
    "                                 referenceCutOff=referenceCutOff,\n",
    "                                 \n",
    "                                 returnGaussian=returnGaussian,\n",
    "                                 optimalFraction=optimalFraction,\n",
    "                                 fluxRangeDiff=fluxRangeDiff)\n"
   ]
  },
  {
   "cell_type": "code",
   "execution_count": 36,
   "metadata": {
    "tags": []
   },
   "outputs": [
    {
     "name": "stdout",
     "output_type": "stream",
     "text": [
      "total reactions returned :  948\n",
      "reactions returned with genes:  875\n"
     ]
    }
   ],
   "source": [
    "# store the number of returned reactions and returned reactions with associated genes.\n",
    "n = len(indigoidine)\n",
    "n1 = len(indigoidine[indigoidine['bgene']!=\"\"])\n",
    "print('total reactions returned : ',len(indigoidine))\n",
    "\n",
    "print('reactions returned with genes: ',len(indigoidine[indigoidine['bgene']!=\"\"]))\n",
    "\n",
    "# # print number of reactions per subsystem\n",
    "# subsystems=[]\n",
    "# for r in indigoidine.index:\n",
    "#     subsystems.append(model.reactions.get_by_id(r).subsystem)\n",
    "\n",
    "# for i in set(subsystems):\n",
    "#     print(i)\n",
    "#     print((subsystems.count(i)))"
   ]
  },
  {
   "cell_type": "markdown",
   "metadata": {},
   "source": [
    "### Save the *E. coli* results. \n",
    "\n",
    "saved in a dataframe for analysis at completion of all simulations. "
   ]
  },
  {
   "cell_type": "code",
   "execution_count": 37,
   "metadata": {},
   "outputs": [],
   "source": [
    "# temporary store the results. \n",
    "results = [[a,a1],\n",
    "           [b,b1],\n",
    "           [c,c1],\n",
    "           [d,d1],\n",
    "           [e,e1],\n",
    "           [f,f1],\n",
    "           [g,g1],\n",
    "           [h,h1],\n",
    "           [j,j1],\n",
    "           [k,k1],\n",
    "           [m,m1],\n",
    "           [n,n1]]"
   ]
  },
  {
   "cell_type": "code",
   "execution_count": 38,
   "metadata": {},
   "outputs": [
    {
     "data": {
      "text/plain": [
       "[[942, 869],\n",
       " [945, 872],\n",
       " [946, 873],\n",
       " [942, 869],\n",
       " [320, 301],\n",
       " [66, 61],\n",
       " [50, 46],\n",
       " [112, 107],\n",
       " [56, 54],\n",
       " [41, 38],\n",
       " [944, 871],\n",
       " [948, 875]]"
      ]
     },
     "execution_count": 38,
     "metadata": {},
     "output_type": "execute_result"
    }
   ],
   "source": [
    "results_ecoli = results.copy()\n",
    "results_ecoli"
   ]
  },
  {
   "cell_type": "markdown",
   "metadata": {},
   "source": [
    "### Simulation time"
   ]
  },
  {
   "cell_type": "code",
   "execution_count": 39,
   "metadata": {},
   "outputs": [
    {
     "name": "stdout",
     "output_type": "stream",
     "text": [
      "Execution time: 35 minutes and 6 seconds\n"
     ]
    }
   ],
   "source": [
    "end_time = timeit.default_timer()\n",
    "execution_time = end_time - start_time\n",
    "minutes = int(execution_time // 60)\n",
    "seconds = int(execution_time % 60)\n",
    "print(\"Execution time:\", minutes, \"minutes and\", seconds, \"seconds\")"
   ]
  },
  {
   "cell_type": "code",
   "execution_count": null,
   "metadata": {},
   "outputs": [],
   "source": []
  },
  {
   "cell_type": "markdown",
   "metadata": {
    "tags": [],
    "toc-hr-collapsed": true
   },
   "source": [
    "# *P. putida* simulations"
   ]
  },
  {
   "cell_type": "markdown",
   "metadata": {
    "tags": [],
    "toc-hr-collapsed": true
   },
   "source": [
    "## GSM preparation\n",
    "\n",
    "* load the GSM (*P. putida* model [iJN1463]()\n",
    "* add the heterogenous indigoidine pathway\n",
    "\n",
    "for instructions on using cobra, visit the [COBRApy documentation](https://opencobra.github.io/cobrapy/)"
   ]
  },
  {
   "cell_type": "code",
   "execution_count": 40,
   "metadata": {},
   "outputs": [],
   "source": [
    "## set the path to the GSM to be used\n",
    "# P. putida GSM iJN1463\n",
    "file_name = '../models/iJN1463_modified.json' \n",
    "\n",
    "\n",
    "# load the file (json format)\n",
    "putida = cobra.io.load_json_model(file_name)"
   ]
  },
  {
   "cell_type": "markdown",
   "metadata": {},
   "source": [
    "### Add heterologous indigoidine production pathway \n",
    "\n",
    "Two reactions are needed to enable indigoidine production:\n",
    "1. APNPT (creating indigoidine precursor)\n",
    "2. Indigoidine production reaction\n",
    "\n",
    "The next 5 cells below add the pathway and metabolites. "
   ]
  },
  {
   "cell_type": "code",
   "execution_count": 41,
   "metadata": {
    "tags": []
   },
   "outputs": [],
   "source": [
    "# initialize the reaction object and set the bounds (APNPT)\n",
    "APNPT = Reaction('APNPT')\n",
    "APNPT.name = 'ATP:pantetheine 4\\'-phosphotransferase'\n",
    "APNPT.subsystem = 'Cytosol'\n",
    "APNPT.lower_bound = -1000\n",
    "APNPT.upper_bound = 1000\n",
    "\n",
    "\n",
    "# initialize the reaction object and set the bounds (Indigoidine production)\n",
    "product_rxn = Reaction('indigoidine_production')\n",
    "product_rxn.name = 'Indigoidine production'\n",
    "product_rxn.subsystem = 'Cytosol'\n",
    "product_rxn.lower_bound = 0\n",
    "product_rxn.upper_bound = 1000\n",
    "\n",
    "#vadd reaction to the model\n",
    "putida.add_reactions([product_rxn,APNPT])\n"
   ]
  },
  {
   "cell_type": "code",
   "execution_count": 42,
   "metadata": {},
   "outputs": [],
   "source": [
    "# initialize the non-native metabolites \n",
    "\n",
    "# metabolite one (Pantetheine)\n",
    "ptth_c = Metabolite(\n",
    "    'ptth_c',\n",
    "    formula='C11H22N2O4S',\n",
    "    name='Pantetheine',\n",
    "    compartment='c'\n",
    ")\n",
    "\n",
    "\n",
    "# metabolite two (Indigoidine)\n",
    "indigoidine_c = Metabolite(\n",
    "    'indigoidine_c',\n",
    "    formula ='C10H8N4O4',\n",
    "    name = 'Indigoidine',\n",
    "    compartment='c'\n",
    ")"
   ]
  },
  {
   "cell_type": "code",
   "execution_count": 43,
   "metadata": {},
   "outputs": [],
   "source": [
    "### add the stochiometrically balanced reaction to the model\n",
    "## note - the names are metabolites names as they appear in the GSM\n",
    "# APNPT reaction\n",
    "APNPT.add_metabolites({\n",
    "    'atp_c': -1,\n",
    "    ptth_c: -1,\n",
    "    'adp_c': 1,\n",
    "    'h_c':1,\n",
    "    'pan4p_c':1\n",
    "})\n",
    "\n",
    "# Indigodine product reaction\n",
    "product_rxn.add_metabolites({\n",
    "    'gln__L_c': -2,\n",
    "    'atp_c': -2,\n",
    "    'coa_c': -2,\n",
    "    'fmn_c': -2,\n",
    "    'o2_c': -2.5,\n",
    "    'pap_c':2,\n",
    "    'fmnh2_c': 2,\n",
    "    'ppi_c': 2,\n",
    "    'amp_c': 2,\n",
    "    ptth_c: 2,\n",
    "    'h2o_c': 1,\n",
    "    'pi_c': 2,\n",
    "    indigoidine_c: 1   \n",
    "})\n"
   ]
  },
  {
   "cell_type": "markdown",
   "metadata": {},
   "source": [
    "Verify that the reactions have been added and that the mass is balanced. "
   ]
  },
  {
   "cell_type": "code",
   "execution_count": 44,
   "metadata": {},
   "outputs": [
    {
     "data": {
      "text/plain": [
       "{}"
      ]
     },
     "execution_count": 44,
     "metadata": {},
     "output_type": "execute_result"
    }
   ],
   "source": [
    "# APNPT reaction\n",
    "putida.reactions.get_by_id('APNPT').check_mass_balance()"
   ]
  },
  {
   "cell_type": "code",
   "execution_count": 45,
   "metadata": {},
   "outputs": [
    {
     "data": {
      "text/plain": [
       "{'charge': -6.0}"
      ]
     },
     "execution_count": 45,
     "metadata": {},
     "output_type": "execute_result"
    }
   ],
   "source": [
    "# Indigoidine production reaction\n",
    "putida.reactions.indigoidine_production.check_mass_balance()"
   ]
  },
  {
   "cell_type": "code",
   "execution_count": 46,
   "metadata": {},
   "outputs": [],
   "source": [
    "# Create a demand reaction for indigoidine to allow it to accumulate in the model\n",
    "demand = putida.add_boundary(putida.metabolites.indigoidine_c,type=\"demand\")"
   ]
  },
  {
   "cell_type": "code",
   "execution_count": 47,
   "metadata": {},
   "outputs": [],
   "source": [
    "model = putida.copy()"
   ]
  },
  {
   "cell_type": "markdown",
   "metadata": {
    "tags": []
   },
   "source": [
    "## Simulations"
   ]
  },
  {
   "cell_type": "markdown",
   "metadata": {},
   "source": [
    "### Constant parameters\n",
    "\n",
    "parameters that are constant across all *P. putida* simulations. "
   ]
  },
  {
   "cell_type": "code",
   "execution_count": 48,
   "metadata": {},
   "outputs": [],
   "source": [
    "# biomass equation.\n",
    "biomassRxn = 'BIOMASS_KT2440_WT3'\n",
    "\n",
    "# product reaction\n",
    "productRxn = 'indigoidine_production'\n",
    "\n",
    "# substrate equation\n",
    "uptakeRxn = 'EX_glc__D_e'\n",
    "\n",
    "# reactions up and down regulated\n",
    "UpOrDown = 'Both'\n",
    "\n",
    "# return extra data\n",
    "returnGaussian=False"
   ]
  },
  {
   "cell_type": "code",
   "execution_count": 49,
   "metadata": {},
   "outputs": [],
   "source": [
    "# subsystems to be utilized \n",
    "putidaSubsystem = set()\n",
    "\n",
    "for r in putida.reactions:\n",
    "    putidaSubsystem.add(r.subsystem)\n",
    "\n",
    "    \n",
    "delete = ['Intracellular demand','Extracellular exchange','Biomass and maintenance functions','Intracellular source/sink']\n",
    "putidaSubsystem = putidaSubsystem-set(delete)"
   ]
  },
  {
   "cell_type": "code",
   "execution_count": 50,
   "metadata": {},
   "outputs": [],
   "source": [
    "desired_systems = putidaSubsystem"
   ]
  },
  {
   "cell_type": "code",
   "execution_count": null,
   "metadata": {},
   "outputs": [],
   "source": []
  },
  {
   "cell_type": "markdown",
   "metadata": {
    "tags": []
   },
   "source": [
    "### Simulation a - no cutoffs"
   ]
  },
  {
   "cell_type": "code",
   "execution_count": 51,
   "metadata": {
    "tags": []
   },
   "outputs": [
    {
     "name": "stdout",
     "output_type": "stream",
     "text": [
      "Fractions of flux: [0.0, 0.1, 0.9, 1.0]\n",
      "Maximum flux to product: 3.099141104294484\n",
      "\n",
      "starting FVA simulations . . .\n",
      "25.0 % complete\n",
      "50.0 % complete\n",
      "75.0 % complete\n",
      "100.0 % complete\n",
      "--- 146.4347438812256 seconds ---\n",
      "\n",
      "Calculating significance scores\n",
      "##################\n",
      "Your cuttoff score is 0\n",
      "The median reaction score in the dataset is 449 and the average is 140069318564\n",
      "##################\n",
      "\n"
     ]
    }
   ],
   "source": [
    "referenceCutOff = 0\n",
    "fluxRangeDiff=0\n",
    "optimalFraction=0\n",
    "N=10\n",
    "indigoidine = FluxRETAP.getRecommendations(model=model,\n",
    "                                 UpOrDown=UpOrDown,\n",
    "                                 productRxn=productRxn,\n",
    "                                 carbonSourceRxn=uptakeRxn,\n",
    "                                 biomassRxn=biomassRxn,\n",
    "                                 desiredSystems=desired_systems,\n",
    "                                 N=N, \n",
    "                                 referenceCutOff=referenceCutOff,\n",
    "                                 \n",
    "                                 returnGaussian=returnGaussian,\n",
    "                                 optimalFraction=optimalFraction,\n",
    "                                 fluxRangeDiff=fluxRangeDiff)\n",
    "\n"
   ]
  },
  {
   "cell_type": "code",
   "execution_count": 52,
   "metadata": {},
   "outputs": [
    {
     "name": "stdout",
     "output_type": "stream",
     "text": [
      "total reactions returned :  939\n",
      "reactions returned with genes:  758\n"
     ]
    }
   ],
   "source": [
    "# store the number of returned reactions and returned reactions with associated genes.\n",
    "a = len(indigoidine)\n",
    "a1 = len(indigoidine[indigoidine['bgene']!=\"\"])\n",
    "print('total reactions returned : ',len(indigoidine))\n",
    "\n",
    "print('reactions returned with genes: ',len(indigoidine[indigoidine['bgene']!=\"\"]))\n",
    "\n",
    "# # print number of reactions per subsystem\n",
    "# subsystems=[]\n",
    "# for r in indigoidine.index:\n",
    "#     subsystems.append(model.reactions.get_by_id(r).subsystem)\n",
    "\n",
    "# for i in set(subsystems):\n",
    "#     print(i)\n",
    "#     print((subsystems.count(i)))"
   ]
  },
  {
   "cell_type": "markdown",
   "metadata": {
    "tags": []
   },
   "source": [
    "### Simulation b - biomass 50%"
   ]
  },
  {
   "cell_type": "code",
   "execution_count": 53,
   "metadata": {},
   "outputs": [
    {
     "name": "stdout",
     "output_type": "stream",
     "text": [
      "Fractions of flux: [0.0, 0.1, 0.9, 1.0]\n",
      "Maximum flux to product: 1.59975308641975\n",
      "\n",
      "starting FVA simulations . . .\n",
      "25.0 % complete\n",
      "50.0 % complete\n",
      "75.0 % complete\n",
      "100.0 % complete\n",
      "--- 141.8446638584137 seconds ---\n",
      "\n",
      "Calculating significance scores\n",
      "##################\n",
      "Your cuttoff score is 0\n",
      "The median reaction score in the dataset is 471 and the average is 9602380343\n",
      "##################\n",
      "\n"
     ]
    }
   ],
   "source": [
    "referenceCutOff = 0\n",
    "fluxRangeDiff=0\n",
    "optimalFraction=0.5\n",
    "N=10\n",
    "indigoidine = FluxRETAP.getRecommendations(model=model,\n",
    "                                 UpOrDown=UpOrDown,\n",
    "                                 productRxn=productRxn,\n",
    "                                 carbonSourceRxn=uptakeRxn,\n",
    "                                 biomassRxn=biomassRxn,\n",
    "                                 desiredSystems=desired_systems,\n",
    "                                 N=N, \n",
    "                                 referenceCutOff=referenceCutOff,\n",
    "                                 \n",
    "                                 returnGaussian=returnGaussian,\n",
    "                                 optimalFraction=optimalFraction,\n",
    "                                 fluxRangeDiff=fluxRangeDiff)\n"
   ]
  },
  {
   "cell_type": "code",
   "execution_count": 54,
   "metadata": {},
   "outputs": [
    {
     "name": "stdout",
     "output_type": "stream",
     "text": [
      "total reactions returned :  940\n",
      "reactions returned with genes:  762\n"
     ]
    }
   ],
   "source": [
    "# store the number of returned reactions and returned reactions with associated genes.\n",
    "b = len(indigoidine)\n",
    "b1 = len(indigoidine[indigoidine['bgene']!=\"\"])\n",
    "print('total reactions returned : ',len(indigoidine))\n",
    "\n",
    "print('reactions returned with genes: ',len(indigoidine[indigoidine['bgene']!=\"\"]))\n",
    "\n",
    "# # print number of reactions per subsystem\n",
    "# subsystems=[]\n",
    "# for r in indigoidine.index:\n",
    "#     subsystems.append(model.reactions.get_by_id(r).subsystem)\n",
    "\n",
    "# for i in set(subsystems):\n",
    "#     print(i)\n",
    "#     print((subsystems.count(i)))"
   ]
  },
  {
   "cell_type": "markdown",
   "metadata": {},
   "source": [
    "### Simulation c - biomass 10%"
   ]
  },
  {
   "cell_type": "code",
   "execution_count": null,
   "metadata": {},
   "outputs": [],
   "source": []
  },
  {
   "cell_type": "code",
   "execution_count": 55,
   "metadata": {},
   "outputs": [
    {
     "name": "stdout",
     "output_type": "stream",
     "text": [
      "Fractions of flux: [0.0, 0.1, 0.9, 1.0]\n",
      "Maximum flux to product: 2.8328296294400097\n",
      "\n",
      "starting FVA simulations . . .\n",
      "25.0 % complete\n",
      "50.0 % complete\n",
      "75.0 % complete\n",
      "100.0 % complete\n",
      "--- 141.94119119644165 seconds ---\n",
      "\n",
      "Calculating significance scores\n",
      "##################\n",
      "Your cuttoff score is 0\n",
      "The median reaction score in the dataset is 445 and the average is 157376164843\n",
      "##################\n",
      "\n"
     ]
    }
   ],
   "source": [
    "referenceCutOff = 0\n",
    "fluxRangeDiff=0\n",
    "optimalFraction=0.1\n",
    "N=10\n",
    "indigoidine = FluxRETAP.getRecommendations(model=model,\n",
    "                                 UpOrDown=UpOrDown,\n",
    "                                 productRxn=productRxn,\n",
    "                                 carbonSourceRxn=uptakeRxn,\n",
    "                                 biomassRxn=biomassRxn,\n",
    "                                 desiredSystems=desired_systems,\n",
    "                                 N=N, \n",
    "                                 referenceCutOff=referenceCutOff,\n",
    "                                 \n",
    "                                 returnGaussian=returnGaussian,\n",
    "                                 optimalFraction=optimalFraction,\n",
    "                                 fluxRangeDiff=fluxRangeDiff)\n"
   ]
  },
  {
   "cell_type": "code",
   "execution_count": 56,
   "metadata": {},
   "outputs": [
    {
     "name": "stdout",
     "output_type": "stream",
     "text": [
      "total reactions returned :  940\n",
      "reactions returned with genes:  757\n"
     ]
    }
   ],
   "source": [
    "# store the number of returned reactions and returned reactions with associated genes.\n",
    "c= len(indigoidine)\n",
    "c1 = len(indigoidine[indigoidine['bgene']!=\"\"])\n",
    "print('total reactions returned : ',len(indigoidine))\n",
    "\n",
    "print('reactions returned with genes: ',len(indigoidine[indigoidine['bgene']!=\"\"]))\n",
    "\n",
    "# # print number of reactions per subsystem\n",
    "# subsystems=[]\n",
    "# for r in indigoidine.index:\n",
    "#     subsystems.append(model.reactions.get_by_id(r).subsystem)\n",
    "\n",
    "# for i in set(subsystems):\n",
    "#     print(i)\n",
    "#     print((subsystems.count(i)))"
   ]
  },
  {
   "cell_type": "markdown",
   "metadata": {},
   "source": [
    "### Simulation d - biomass 90%"
   ]
  },
  {
   "cell_type": "code",
   "execution_count": 57,
   "metadata": {},
   "outputs": [
    {
     "name": "stdout",
     "output_type": "stream",
     "text": [
      "Fractions of flux: [0.0, 0.1, 0.9, 1.0]\n",
      "Maximum flux to product: 0.3199506172839459\n",
      "\n",
      "starting FVA simulations . . .\n",
      "25.0 % complete\n",
      "50.0 % complete\n",
      "75.0 % complete\n",
      "100.0 % complete\n",
      "--- 149.1859791278839 seconds ---\n",
      "\n",
      "Calculating significance scores\n",
      "##################\n",
      "Your cuttoff score is 0\n",
      "The median reaction score in the dataset is 547 and the average is 2644741165\n",
      "##################\n",
      "\n"
     ]
    }
   ],
   "source": [
    "referenceCutOff = 0\n",
    "fluxRangeDiff=0\n",
    "optimalFraction=0.9\n",
    "N=10\n",
    "indigoidine = FluxRETAP.getRecommendations(model=model,\n",
    "                                 UpOrDown=UpOrDown,\n",
    "                                 productRxn=productRxn,\n",
    "                                 carbonSourceRxn=uptakeRxn,\n",
    "                                 biomassRxn=biomassRxn,\n",
    "                                 desiredSystems=desired_systems,\n",
    "                                 N=N, \n",
    "                                 referenceCutOff=referenceCutOff,\n",
    "                                 \n",
    "                                 returnGaussian=returnGaussian,\n",
    "                                 optimalFraction=optimalFraction,\n",
    "                                 fluxRangeDiff=fluxRangeDiff)\n"
   ]
  },
  {
   "cell_type": "code",
   "execution_count": 58,
   "metadata": {},
   "outputs": [
    {
     "name": "stdout",
     "output_type": "stream",
     "text": [
      "total reactions returned :  941\n",
      "reactions returned with genes:  763\n"
     ]
    }
   ],
   "source": [
    "# store the number of returned reactions and returned reactions with associated genes.\n",
    "d = len(indigoidine)\n",
    "d1 = len(indigoidine[indigoidine['bgene']!=\"\"])\n",
    "print('total reactions returned : ',len(indigoidine))\n",
    "\n",
    "print('reactions returned with genes: ',len(indigoidine[indigoidine['bgene']!=\"\"]))\n",
    "\n",
    "# # print number of reactions per subsystem\n",
    "# subsystems=[]\n",
    "# for r in indigoidine.index:\n",
    "#     subsystems.append(model.reactions.get_by_id(r).subsystem)\n",
    "\n",
    "# for i in set(subsystems):\n",
    "#     print(i)\n",
    "#     print((subsystems.count(i)))"
   ]
  },
  {
   "cell_type": "markdown",
   "metadata": {
    "tags": []
   },
   "source": [
    "### Simulation e - fluxRangeDiff = 0.01 $\\frac{mmol}{gDCW.h} $"
   ]
  },
  {
   "cell_type": "code",
   "execution_count": 59,
   "metadata": {},
   "outputs": [
    {
     "name": "stdout",
     "output_type": "stream",
     "text": [
      "Fractions of flux: [0.0, 0.1, 0.9, 1.0]\n",
      "Maximum flux to product: 3.099141104294473\n",
      "\n",
      "starting FVA simulations . . .\n",
      "25.0 % complete\n",
      "50.0 % complete\n",
      "75.0 % complete\n",
      "100.0 % complete\n",
      "--- 145.5417981147766 seconds ---\n",
      "\n",
      "Calculating significance scores\n",
      "##################\n",
      "Your cuttoff score is 0\n",
      "The median reaction score in the dataset is 449 and the average is 139671599068\n",
      "##################\n",
      "\n"
     ]
    }
   ],
   "source": [
    "referenceCutOff = 0\n",
    "fluxRangeDiff=0.01\n",
    "optimalFraction=0\n",
    "N=10\n",
    "indigoidine = FluxRETAP.getRecommendations(model=model,\n",
    "                                 UpOrDown=UpOrDown,\n",
    "                                 productRxn=productRxn,\n",
    "                                 carbonSourceRxn=uptakeRxn,\n",
    "                                 biomassRxn=biomassRxn,\n",
    "                                 desiredSystems=desired_systems,\n",
    "                                 N=N, \n",
    "                                 referenceCutOff=referenceCutOff,\n",
    "                                 \n",
    "                                 returnGaussian=returnGaussian,\n",
    "                                 optimalFraction=optimalFraction,\n",
    "                                 fluxRangeDiff=fluxRangeDiff)\n"
   ]
  },
  {
   "cell_type": "code",
   "execution_count": 60,
   "metadata": {},
   "outputs": [
    {
     "name": "stdout",
     "output_type": "stream",
     "text": [
      "total reactions returned :  364\n",
      "reactions returned with genes:  308\n"
     ]
    }
   ],
   "source": [
    "# store the number of returned reactions and returned reactions with associated genes.\n",
    "e = len(indigoidine)\n",
    "e1 = len(indigoidine[indigoidine['bgene']!=\"\"])\n",
    "print('total reactions returned : ',len(indigoidine))\n",
    "\n",
    "print('reactions returned with genes: ',len(indigoidine[indigoidine['bgene']!=\"\"]))\n",
    "\n",
    "# # print number of reactions per subsystem\n",
    "# subsystems=[]\n",
    "# for r in indigoidine.index:\n",
    "#     subsystems.append(model.reactions.get_by_id(r).subsystem)\n",
    "\n",
    "# for i in set(subsystems):\n",
    "#     print(i)\n",
    "#     print((subsystems.count(i)))"
   ]
  },
  {
   "cell_type": "markdown",
   "metadata": {},
   "source": [
    "### Simulation f - fluxRangeDiff =$\\frac{mmol}{gDCW.h} $"
   ]
  },
  {
   "cell_type": "code",
   "execution_count": 61,
   "metadata": {},
   "outputs": [
    {
     "name": "stdout",
     "output_type": "stream",
     "text": [
      "Fractions of flux: [0.0, 0.1, 0.9, 1.0]\n",
      "Maximum flux to product: 3.0991411042944805\n",
      "\n",
      "starting FVA simulations . . .\n",
      "25.0 % complete\n",
      "50.0 % complete\n",
      "75.0 % complete\n",
      "100.0 % complete\n",
      "--- 146.0603289604187 seconds ---\n",
      "\n",
      "Calculating significance scores\n",
      "##################\n",
      "Your cuttoff score is 0\n",
      "The median reaction score in the dataset is 449 and the average is 139671599060\n",
      "##################\n",
      "\n"
     ]
    }
   ],
   "source": [
    "referenceCutOff = 0\n",
    "\n",
    "productRxn = 'indigoidine_production'\n",
    "fluxRangeDiff=0.05\n",
    "optimalFraction=0\n",
    "N=10\n",
    "indigoidine = FluxRETAP.getRecommendations(model=model,\n",
    "                                 UpOrDown=UpOrDown,\n",
    "                                 productRxn=productRxn,\n",
    "                                 carbonSourceRxn=uptakeRxn,\n",
    "                                 biomassRxn=biomassRxn,\n",
    "                                 desiredSystems=desired_systems,\n",
    "                                 N=N, \n",
    "                                 referenceCutOff=referenceCutOff,\n",
    "                                 \n",
    "                                 returnGaussian=returnGaussian,\n",
    "                                 optimalFraction=optimalFraction,\n",
    "                                 fluxRangeDiff=fluxRangeDiff)\n"
   ]
  },
  {
   "cell_type": "code",
   "execution_count": 62,
   "metadata": {},
   "outputs": [
    {
     "name": "stdout",
     "output_type": "stream",
     "text": [
      "total reactions returned :  72\n",
      "reactions returned with genes:  66\n"
     ]
    }
   ],
   "source": [
    "# store the number of returned reactions and returned reactions with associated genes.\n",
    "\n",
    "f = len(indigoidine)\n",
    "f1 = len(indigoidine[indigoidine['bgene']!=\"\"])\n",
    "print('total reactions returned : ',len(indigoidine))\n",
    "\n",
    "print('reactions returned with genes: ',len(indigoidine[indigoidine['bgene']!=\"\"]))\n",
    "\n",
    "# # print number of reactions per subsystem\n",
    "# subsystems=[]\n",
    "# for r in indigoidine.index:\n",
    "#     subsystems.append(model.reactions.get_by_id(r).subsystem)\n",
    "\n",
    "# for i in set(subsystems):\n",
    "#     print(i)\n",
    "#     print((subsystems.count(i)))"
   ]
  },
  {
   "cell_type": "markdown",
   "metadata": {},
   "source": [
    "### Simulation g - fluxRangeDiff = 0.1 $\\frac{mmol}{gDCW.h} $"
   ]
  },
  {
   "cell_type": "code",
   "execution_count": 63,
   "metadata": {},
   "outputs": [
    {
     "name": "stdout",
     "output_type": "stream",
     "text": [
      "Fractions of flux: [0.0, 0.1, 0.9, 1.0]\n",
      "Maximum flux to product: 3.0991411042944828\n",
      "\n",
      "starting FVA simulations . . .\n",
      "25.0 % complete\n",
      "50.0 % complete\n",
      "75.0 % complete\n",
      "100.0 % complete\n",
      "--- 146.44316387176514 seconds ---\n",
      "\n",
      "Calculating significance scores\n",
      "##################\n",
      "Your cuttoff score is 0\n",
      "The median reaction score in the dataset is 449 and the average is 139750957919\n",
      "##################\n",
      "\n"
     ]
    }
   ],
   "source": [
    "referenceCutOff = 0\n",
    "fluxRangeDiff=0.1\n",
    "optimalFraction=0\n",
    "N=10\n",
    "indigoidine = FluxRETAP.getRecommendations(model=model,\n",
    "                                 UpOrDown=UpOrDown,\n",
    "                                 productRxn=productRxn,\n",
    "                                 carbonSourceRxn=uptakeRxn,\n",
    "                                 biomassRxn=biomassRxn,\n",
    "                                 desiredSystems=desired_systems,\n",
    "                                 N=N, \n",
    "                                 referenceCutOff=referenceCutOff,\n",
    "                                 \n",
    "                                 returnGaussian=returnGaussian,\n",
    "                                 optimalFraction=optimalFraction,\n",
    "                                 fluxRangeDiff=fluxRangeDiff)\n"
   ]
  },
  {
   "cell_type": "code",
   "execution_count": 64,
   "metadata": {},
   "outputs": [
    {
     "name": "stdout",
     "output_type": "stream",
     "text": [
      "total reactions returned :  49\n",
      "reactions returned with genes:  44\n"
     ]
    }
   ],
   "source": [
    "# store the number of returned reactions and returned reactions with associated genes.\n",
    "g = len(indigoidine)\n",
    "g1 = len(indigoidine[indigoidine['bgene']!=\"\"])\n",
    "print('total reactions returned : ',len(indigoidine))\n",
    "\n",
    "print('reactions returned with genes: ',len(indigoidine[indigoidine['bgene']!=\"\"]))\n",
    "\n",
    "# # print number of reactions per subsystem\n",
    "# subsystems=[]\n",
    "# for r in indigoidine.index:\n",
    "#     subsystems.append(model.reactions.get_by_id(r).subsystem)\n",
    "\n",
    "# for i in set(subsystems):\n",
    "#     print(i)\n",
    "#     print((subsystems.count(i)))"
   ]
  },
  {
   "cell_type": "markdown",
   "metadata": {
    "tags": []
   },
   "source": [
    "### Simulation h - referenceCutOff = 500"
   ]
  },
  {
   "cell_type": "code",
   "execution_count": 65,
   "metadata": {},
   "outputs": [
    {
     "name": "stdout",
     "output_type": "stream",
     "text": [
      "Fractions of flux: [0.0, 0.1, 0.9, 1.0]\n",
      "Maximum flux to product: 3.099141104294491\n",
      "\n",
      "starting FVA simulations . . .\n",
      "25.0 % complete\n",
      "50.0 % complete\n",
      "75.0 % complete\n",
      "100.0 % complete\n",
      "--- 145.8598279953003 seconds ---\n",
      "\n",
      "Calculating significance scores\n",
      "##################\n",
      "Your cuttoff score is 500\n",
      "The median reaction score in the dataset is 449 and the average is 140069318596\n",
      "##################\n",
      "\n"
     ]
    }
   ],
   "source": [
    "referenceCutOff = 500\n",
    "fluxRangeDiff=0\n",
    "optimalFraction=0\n",
    "N=10\n",
    "indigoidine = FluxRETAP.getRecommendations(model=model,\n",
    "                                 UpOrDown=UpOrDown,\n",
    "                                 productRxn=productRxn,\n",
    "                                 carbonSourceRxn=uptakeRxn,\n",
    "                                 biomassRxn=biomassRxn,\n",
    "                                 desiredSystems=desired_systems,\n",
    "                                 N=N, \n",
    "                                 referenceCutOff=referenceCutOff,\n",
    "                                 \n",
    "                                 returnGaussian=returnGaussian,\n",
    "                                 optimalFraction=optimalFraction,\n",
    "                                 fluxRangeDiff=fluxRangeDiff)\n"
   ]
  },
  {
   "cell_type": "code",
   "execution_count": 66,
   "metadata": {},
   "outputs": [
    {
     "name": "stdout",
     "output_type": "stream",
     "text": [
      "total reactions returned :  150\n",
      "reactions returned with genes:  140\n"
     ]
    }
   ],
   "source": [
    "# store the number of returned reactions and returned reactions with associated genes.\n",
    "\n",
    "h = len(indigoidine)\n",
    "h1 = len(indigoidine[indigoidine['bgene']!=\"\"])\n",
    "print('total reactions returned : ',len(indigoidine))\n",
    "\n",
    "print('reactions returned with genes: ',len(indigoidine[indigoidine['bgene']!=\"\"]))\n",
    "\n",
    "# # print number of reactions per subsystem\n",
    "# subsystems=[]\n",
    "# for r in indigoidine.index:\n",
    "#     subsystems.append(model.reactions.get_by_id(r).subsystem)\n",
    "\n",
    "# for i in set(subsystems):\n",
    "#     print(i)\n",
    "#     print((subsystems.count(i)))"
   ]
  },
  {
   "cell_type": "markdown",
   "metadata": {},
   "source": [
    "### Simulation j - referenceCutOff = 1500\n",
    "\n",
    "no simulation 'i', 'i' is used as a variable used in a for loop"
   ]
  },
  {
   "cell_type": "code",
   "execution_count": 67,
   "metadata": {},
   "outputs": [
    {
     "name": "stdout",
     "output_type": "stream",
     "text": [
      "Fractions of flux: [0.0, 0.1, 0.9, 1.0]\n",
      "Maximum flux to product: 3.0991411042944756\n",
      "\n",
      "starting FVA simulations . . .\n",
      "25.0 % complete\n",
      "50.0 % complete\n",
      "75.0 % complete\n",
      "100.0 % complete\n",
      "--- 157.00131797790527 seconds ---\n",
      "\n",
      "Calculating significance scores\n",
      "##################\n",
      "Your cuttoff score is 1500\n",
      "The median reaction score in the dataset is 449 and the average is 139909946493\n",
      "##################\n",
      "\n"
     ]
    }
   ],
   "source": [
    "referenceCutOff = 1500\n",
    "fluxRangeDiff=0\n",
    "optimalFraction=0\n",
    "N=10\n",
    "indigoidine = FluxRETAP.getRecommendations(model=model,\n",
    "                                 UpOrDown=UpOrDown,\n",
    "                                 productRxn=productRxn,\n",
    "                                 carbonSourceRxn=uptakeRxn,\n",
    "                                 biomassRxn=biomassRxn,\n",
    "                                 desiredSystems=desired_systems,\n",
    "                                 N=N, \n",
    "                                 referenceCutOff=referenceCutOff,\n",
    "                                 \n",
    "                                 returnGaussian=returnGaussian,\n",
    "                                 optimalFraction=optimalFraction,\n",
    "                                 fluxRangeDiff=fluxRangeDiff)\n"
   ]
  },
  {
   "cell_type": "code",
   "execution_count": 68,
   "metadata": {},
   "outputs": [
    {
     "name": "stdout",
     "output_type": "stream",
     "text": [
      "total reactions returned :  50\n",
      "reactions returned with genes:  45\n"
     ]
    }
   ],
   "source": [
    "# store the number of returned reactions and returned reactions with associated genes.\n",
    "\n",
    "j = len(indigoidine)\n",
    "j1 = len(indigoidine[indigoidine['bgene']!=\"\"])\n",
    "print('total reactions returned : ',len(indigoidine))\n",
    "\n",
    "print('reactions returned with genes: ',len(indigoidine[indigoidine['bgene']!=\"\"]))\n",
    "\n",
    "# # print number of reactions per subsystem\n",
    "# subsystems=[]\n",
    "# for r in indigoidine.index:\n",
    "#     subsystems.append(model.reactions.get_by_id(r).subsystem)\n",
    "\n",
    "# for i in set(subsystems):\n",
    "#     print(i)\n",
    "#     print((subsystems.count(i)))"
   ]
  },
  {
   "cell_type": "markdown",
   "metadata": {},
   "source": [
    "### Simulation k - referenceCutOff = 5000"
   ]
  },
  {
   "cell_type": "code",
   "execution_count": 69,
   "metadata": {},
   "outputs": [
    {
     "name": "stdout",
     "output_type": "stream",
     "text": [
      "Fractions of flux: [0.0, 0.1, 0.9, 1.0]\n",
      "Maximum flux to product: 3.0991411042944845\n",
      "\n",
      "starting FVA simulations . . .\n",
      "25.0 % complete\n",
      "50.0 % complete\n",
      "75.0 % complete\n",
      "100.0 % complete\n",
      "--- 146.13212203979492 seconds ---\n",
      "\n",
      "Calculating significance scores\n",
      "##################\n",
      "Your cuttoff score is 5000\n",
      "The median reaction score in the dataset is 449 and the average is 140149130141\n",
      "##################\n",
      "\n"
     ]
    }
   ],
   "source": [
    "referenceCutOff = 5000\n",
    "fluxRangeDiff=0\n",
    "optimalFraction=0\n",
    "N=10\n",
    "indigoidine = FluxRETAP.getRecommendations(model=model,\n",
    "                                 UpOrDown=UpOrDown,\n",
    "                                 productRxn=productRxn,\n",
    "                                 carbonSourceRxn=uptakeRxn,\n",
    "                                 biomassRxn=biomassRxn,\n",
    "                                 desiredSystems=desired_systems,\n",
    "                                 N=N, \n",
    "                                 referenceCutOff=referenceCutOff,\n",
    "                                 \n",
    "                                 returnGaussian=returnGaussian,\n",
    "                                 optimalFraction=optimalFraction,\n",
    "                                 fluxRangeDiff=fluxRangeDiff)\n"
   ]
  },
  {
   "cell_type": "code",
   "execution_count": 70,
   "metadata": {},
   "outputs": [
    {
     "name": "stdout",
     "output_type": "stream",
     "text": [
      "total reactions returned :  39\n",
      "reactions returned with genes:  33\n"
     ]
    }
   ],
   "source": [
    "# store the number of returned reactions and returned reactions with associated genes.\n",
    "k = len(indigoidine)\n",
    "k1 = len(indigoidine[indigoidine['bgene']!=\"\"])\n",
    "print('total reactions returned : ',len(indigoidine))\n",
    "\n",
    "print('reactions returned with genes: ',len(indigoidine[indigoidine['bgene']!=\"\"]))\n",
    "\n",
    "# # print number of reactions per subsystem\n",
    "# subsystems=[]\n",
    "# for r in indigoidine.index:\n",
    "#     subsystems.append(model.reactions.get_by_id(r).subsystem)\n",
    "\n",
    "# for i in set(subsystems):\n",
    "#     print(i)\n",
    "#     print((subsystems.count(i)))"
   ]
  },
  {
   "cell_type": "markdown",
   "metadata": {
    "tags": []
   },
   "source": [
    "### Simulation m - N = 100"
   ]
  },
  {
   "cell_type": "code",
   "execution_count": 71,
   "metadata": {},
   "outputs": [
    {
     "name": "stdout",
     "output_type": "stream",
     "text": [
      "Fractions of flux: [0.0, 0.01, 0.99, 1.0]\n",
      "Maximum flux to product: 3.0991411042944788\n",
      "\n",
      "starting FVA simulations . . .\n",
      "25.0 % complete\n",
      "50.0 % complete\n",
      "75.0 % complete\n",
      "100.0 % complete\n",
      "--- 146.76074695587158 seconds ---\n",
      "\n",
      "Calculating significance scores\n",
      "##################\n",
      "Your cuttoff score is 0\n",
      "The median reaction score in the dataset is 457 and the average is inf\n",
      "##################\n",
      "\n"
     ]
    }
   ],
   "source": [
    "referenceCutOff = 0\n",
    "fluxRangeDiff=0\n",
    "optimalFraction=0\n",
    "N=100\n",
    "indigoidine = FluxRETAP.getRecommendations(model=model,\n",
    "                                 UpOrDown=UpOrDown,\n",
    "                                 productRxn=productRxn,\n",
    "                                 carbonSourceRxn=uptakeRxn,\n",
    "                                 biomassRxn=biomassRxn,\n",
    "                                 desiredSystems=desired_systems,\n",
    "                                 N=N, \n",
    "                                 referenceCutOff=referenceCutOff,\n",
    "                                 \n",
    "                                 returnGaussian=returnGaussian,\n",
    "                                 optimalFraction=optimalFraction,\n",
    "                                 fluxRangeDiff=fluxRangeDiff)\n"
   ]
  },
  {
   "cell_type": "code",
   "execution_count": 72,
   "metadata": {
    "tags": []
   },
   "outputs": [
    {
     "name": "stdout",
     "output_type": "stream",
     "text": [
      "total reactions returned :  939\n",
      "reactions returned with genes:  760\n"
     ]
    }
   ],
   "source": [
    "# store the number of returned reactions and returned reactions with associated genes.\n",
    "\n",
    "m = len(indigoidine)\n",
    "m1 = len(indigoidine[indigoidine['bgene']!=\"\"])\n",
    "print('total reactions returned : ',len(indigoidine))\n",
    "\n",
    "print('reactions returned with genes: ',len(indigoidine[indigoidine['bgene']!=\"\"]))\n",
    "\n",
    "# # print number of reactions per subsystem\n",
    "# subsystems=[]\n",
    "# for r in indigoidine.index:\n",
    "#     subsystems.append(model.reactions.get_by_id(r).subsystem)\n",
    "\n",
    "# for i in set(subsystems):\n",
    "#     print(i)\n",
    "#     print((subsystems.count(i)))"
   ]
  },
  {
   "cell_type": "markdown",
   "metadata": {},
   "source": [
    "### Simulation n - N = 1000"
   ]
  },
  {
   "cell_type": "code",
   "execution_count": 73,
   "metadata": {},
   "outputs": [
    {
     "name": "stdout",
     "output_type": "stream",
     "text": [
      "Fractions of flux: [0.0, 0.001, 0.999, 1.0]\n",
      "Maximum flux to product: 3.09914110429449\n",
      "\n",
      "starting FVA simulations . . .\n",
      "25.0 % complete\n",
      "50.0 % complete\n",
      "75.0 % complete\n",
      "100.0 % complete\n",
      "--- 146.13414120674133 seconds ---\n",
      "\n",
      "Calculating significance scores\n",
      "##################\n",
      "Your cuttoff score is 0\n",
      "The median reaction score in the dataset is 458 and the average is inf\n",
      "##################\n",
      "\n"
     ]
    }
   ],
   "source": [
    "referenceCutOff = 0\n",
    "fluxRangeDiff=0\n",
    "optimalFraction=0\n",
    "N=1000\n",
    "indigoidine = FluxRETAP.getRecommendations(model=model,\n",
    "                                 UpOrDown=UpOrDown,\n",
    "                                 productRxn=productRxn,\n",
    "                                 carbonSourceRxn=uptakeRxn,\n",
    "                                 biomassRxn=biomassRxn,\n",
    "                                 desiredSystems=desired_systems,\n",
    "                                 N=N, \n",
    "                                 referenceCutOff=referenceCutOff,\n",
    "                                 \n",
    "                                 returnGaussian=returnGaussian,\n",
    "                                 optimalFraction=optimalFraction,\n",
    "                                 fluxRangeDiff=fluxRangeDiff)\n"
   ]
  },
  {
   "cell_type": "code",
   "execution_count": 74,
   "metadata": {
    "tags": []
   },
   "outputs": [
    {
     "name": "stdout",
     "output_type": "stream",
     "text": [
      "total reactions returned :  947\n",
      "reactions returned with genes:  764\n"
     ]
    }
   ],
   "source": [
    "# store the number of returned reactions and returned reactions with associated genes.\n",
    "n = len(indigoidine)\n",
    "n1 = len(indigoidine[indigoidine['bgene']!=\"\"])\n",
    "print('total reactions returned : ',len(indigoidine))\n",
    "\n",
    "print('reactions returned with genes: ',len(indigoidine[indigoidine['bgene']!=\"\"]))\n",
    "\n",
    "# # print number of reactions per subsystem\n",
    "# subsystems=[]\n",
    "# for r in indigoidine.index:\n",
    "#     subsystems.append(model.reactions.get_by_id(r).subsystem)\n",
    "\n",
    "# for i in set(subsystems):\n",
    "#     print(i)\n",
    "#     print((subsystems.count(i)))"
   ]
  },
  {
   "cell_type": "markdown",
   "metadata": {
    "tags": []
   },
   "source": [
    "### Save the *P. putida* results. \n",
    "\n",
    "saved in a dataframe for analysis at completion of all simulations. "
   ]
  },
  {
   "cell_type": "code",
   "execution_count": 75,
   "metadata": {},
   "outputs": [],
   "source": [
    "# temporary store the results. \n",
    "\n",
    "results = [[a,a1],\n",
    "           [b,b1],\n",
    "           [c,c1],\n",
    "           [d,d1],\n",
    "           [e,e1],\n",
    "           [f,f1],\n",
    "           [g,g1],\n",
    "           [h,h1],\n",
    "           [j,j1],\n",
    "           [k,k1],\n",
    "           [m,m1],\n",
    "           [n,n1]]"
   ]
  },
  {
   "cell_type": "code",
   "execution_count": 76,
   "metadata": {
    "tags": []
   },
   "outputs": [
    {
     "data": {
      "text/plain": [
       "[[939, 758],\n",
       " [940, 762],\n",
       " [940, 757],\n",
       " [941, 763],\n",
       " [364, 308],\n",
       " [72, 66],\n",
       " [49, 44],\n",
       " [150, 140],\n",
       " [50, 45],\n",
       " [39, 33],\n",
       " [939, 760],\n",
       " [947, 764]]"
      ]
     },
     "execution_count": 76,
     "metadata": {},
     "output_type": "execute_result"
    }
   ],
   "source": [
    "results_putida = results.copy()\n",
    "results_putida"
   ]
  },
  {
   "cell_type": "markdown",
   "metadata": {},
   "source": [
    "### Simulation time"
   ]
  },
  {
   "cell_type": "code",
   "execution_count": 77,
   "metadata": {},
   "outputs": [
    {
     "name": "stdout",
     "output_type": "stream",
     "text": [
      "Execution time: 68 minutes and 45 seconds\n"
     ]
    }
   ],
   "source": [
    "end_time = timeit.default_timer()\n",
    "execution_time = end_time - start_time\n",
    "minutes = int(execution_time // 60)\n",
    "seconds = int(execution_time % 60)\n",
    "print(\"Execution time:\", minutes, \"minutes and\", seconds, \"seconds\")"
   ]
  },
  {
   "cell_type": "markdown",
   "metadata": {
    "tags": [],
    "toc-hr-collapsed": true
   },
   "source": [
    "# *S. cerevisiae* simulations"
   ]
  },
  {
   "cell_type": "markdown",
   "metadata": {},
   "source": [
    "## GSM preparation\n",
    "\n",
    "* load the GSM (*S. cerevisiae* model [iMM904]()\n",
    "* add the heterogenous indigoidine pathway\n",
    "\n",
    "for instructions on using cobra, visit the [COBRApy documentation](https://opencobra.github.io/cobrapy/)"
   ]
  },
  {
   "cell_type": "code",
   "execution_count": 78,
   "metadata": {
    "tags": []
   },
   "outputs": [],
   "source": [
    "## set the path to the GSM to be used\n",
    "# S. cerevisiae model iMM904\n",
    "file_name = '../models/iMM904.json' \n",
    "\n",
    "\n",
    "# load the file (json format)\n",
    "Scerevisiae = cobra.io.load_json_model(file_name)"
   ]
  },
  {
   "cell_type": "markdown",
   "metadata": {},
   "source": [
    "\n",
    "### Add heterologous indigoidine production pathway \n",
    "\n",
    "Two reactions are needed to enable indigoidine production:\n",
    "1. APNPT (creating indigoidine precursor)\n",
    "2. Indigoidine production reaction\n",
    "\n",
    "The next 5 cells below add the pathway and metabolites. \n",
    "\n",
    "\n",
    "change Indigoidine reaction - no flux through fmn_c --> removed from reaction \n",
    "Following example published [here](https://www.nature.com/articles/s41467-020-19171-4#Sec20) in [supplemental file 4](https://static-content.springer.com/esm/art%3A10.1038%2Fs41467-020-19171-4/MediaObjects/41467_2020_19171_MOESM8_ESM.txt)"
   ]
  },
  {
   "cell_type": "code",
   "execution_count": 79,
   "metadata": {
    "tags": []
   },
   "outputs": [],
   "source": [
    "## reactions have slightly different stoichiometry for S. cerevisiae. \n",
    "# Re-initializing reactions. \n",
    "\n",
    "# initialize the reaction object and set the bounds (APNPT)\n",
    "APNPT = Reaction('APNPT')\n",
    "APNPT.name = 'ATP:pantetheine 4\\'-phosphotransferase'\n",
    "APNPT.subsystem = 'Cytosol'\n",
    "APNPT.lower_bound = -1000\n",
    "APNPT.upper_bound = 1000\n",
    "\n",
    "\n",
    "# initialize the reaction object and set the bounds (Indigoidine production)\n",
    "product_rxn = Reaction('indigoidine_production')\n",
    "product_rxn.name = 'Indigoidine production'\n",
    "product_rxn.subsystem = 'Cytosol'\n",
    "product_rxn.lower_bound = 0\n",
    "product_rxn.upper_bound = 1000\n"
   ]
  },
  {
   "cell_type": "code",
   "execution_count": 80,
   "metadata": {},
   "outputs": [],
   "source": [
    "# initialize the non-native metabolites \n",
    "\n",
    "# metabolite one (Pantetheine)\n",
    "ptth_c = Metabolite(\n",
    "    'ptth_c',\n",
    "    formula='C11H22N2O4S',\n",
    "    name='Pantetheine',\n",
    "    compartment='c'\n",
    ")\n",
    "\n",
    "\n",
    "# metabolite two (Indigoidine)\n",
    "indigoidine_c = Metabolite(\n",
    "    'indigoidine_c',\n",
    "    formula ='C10H8N4O4',\n",
    "    name = 'Indigoidine',\n",
    "    compartment='c'\n",
    ")\n"
   ]
  },
  {
   "cell_type": "code",
   "execution_count": 81,
   "metadata": {},
   "outputs": [],
   "source": [
    "# ### add the stochiometrically balanced reaction to the model\n",
    "# ## note - the names are metabolites names as they appear in the GSM\n",
    "\n",
    "# add reactions to the model\n",
    "Scerevisiae.add_reactions([product_rxn,APNPT])\n",
    "\n",
    "# APNPT reaction\n",
    "APNPT.add_metabolites({\n",
    "    'atp_c': -1,\n",
    "    ptth_c: -1,\n",
    "    'adp_c': 1,\n",
    "    'h_c':1,\n",
    "    'pan4p_c':1\n",
    "})\n",
    "\n",
    "# Indigodine product reaction\n",
    "product_rxn.add_metabolites({\n",
    "    'gln__L_c': -2,\n",
    "    'atp_c': -2,\n",
    "    'coa_c': -2,\n",
    "    'o2_c': -2.5,\n",
    "    'pap_c':2,\n",
    "    'ppi_c': 2,\n",
    "    'amp_c': 2,\n",
    "    ptth_c: 2,\n",
    "    'h2o_c': 1,\n",
    "    'pi_c': 2,\n",
    "    indigoidine_c: 1   \n",
    "})"
   ]
  },
  {
   "cell_type": "code",
   "execution_count": null,
   "metadata": {},
   "outputs": [],
   "source": []
  },
  {
   "cell_type": "markdown",
   "metadata": {},
   "source": [
    "Verify that the reactions have been added and that the mass is balanced. "
   ]
  },
  {
   "cell_type": "code",
   "execution_count": 82,
   "metadata": {},
   "outputs": [
    {
     "data": {
      "text/plain": [
       "{}"
      ]
     },
     "execution_count": 82,
     "metadata": {},
     "output_type": "execute_result"
    }
   ],
   "source": [
    "# APNPT reaction\n",
    "Scerevisiae.reactions.get_by_id('APNPT').check_mass_balance()\n"
   ]
  },
  {
   "cell_type": "code",
   "execution_count": 83,
   "metadata": {},
   "outputs": [
    {
     "data": {
      "text/plain": [
       "{'charge': -6.0, 'H': -4}"
      ]
     },
     "execution_count": 83,
     "metadata": {},
     "output_type": "execute_result"
    }
   ],
   "source": [
    "# Indigoidine reaction\n",
    "Scerevisiae.reactions.indigoidine_production.check_mass_balance()"
   ]
  },
  {
   "cell_type": "code",
   "execution_count": 84,
   "metadata": {},
   "outputs": [],
   "source": [
    "# Create a demand reaction for indigoidine to allow it to accumulate in the model\n",
    "demand = Scerevisiae.add_boundary(Scerevisiae.metabolites.indigoidine_c,type=\"demand\")"
   ]
  },
  {
   "cell_type": "code",
   "execution_count": 85,
   "metadata": {},
   "outputs": [],
   "source": [
    "model = Scerevisiae.copy()"
   ]
  },
  {
   "cell_type": "markdown",
   "metadata": {
    "tags": [],
    "toc-hr-collapsed": true
   },
   "source": [
    "## Simulations"
   ]
  },
  {
   "cell_type": "markdown",
   "metadata": {},
   "source": [
    "### Constant parameters\n",
    "\n",
    "parameters that are constant across all *S. cerevisiae* simulations. "
   ]
  },
  {
   "cell_type": "code",
   "execution_count": 86,
   "metadata": {},
   "outputs": [],
   "source": [
    "# biomass equation\n",
    "biomassRxn = 'BIOMASS_SC5_notrace'\n",
    "\n",
    "# product reaction\n",
    "productRxn = 'indigoidine_production'\n",
    "\n",
    "# substrate equation\n",
    "uptakeRxn = 'EX_glc__D_e'\n",
    "\n",
    "# reactions up and down regulated\n",
    "UpOrDown = 'Both'\n",
    "\n",
    "# return extra data\n",
    "returnGaussian=False\n"
   ]
  },
  {
   "cell_type": "code",
   "execution_count": 87,
   "metadata": {},
   "outputs": [],
   "source": [
    "# subsystems\n",
    "ScerevisiaeSubsystem = set()\n",
    "for r in Scerevisiae.reactions:\n",
    "    ScerevisiaeSubsystem.add(r.subsystem)\n",
    "delete = ['Intracellular demand','Extracellular exchange','Biomass and maintenance functions','Intracellular source/sink']\n",
    "\n",
    "ScerevisiaeSubsystem = ScerevisiaeSubsystem-set(delete)"
   ]
  },
  {
   "cell_type": "code",
   "execution_count": 88,
   "metadata": {},
   "outputs": [],
   "source": [
    "desired_systems = ScerevisiaeSubsystem"
   ]
  },
  {
   "cell_type": "markdown",
   "metadata": {
    "tags": []
   },
   "source": [
    "### Simulation a - no cutoffs"
   ]
  },
  {
   "cell_type": "code",
   "execution_count": 89,
   "metadata": {
    "tags": []
   },
   "outputs": [
    {
     "name": "stdout",
     "output_type": "stream",
     "text": [
      "Fractions of flux: [0.0, 0.1, 0.9, 1.0]\n",
      "Maximum flux to product: 0.7961165048543708\n",
      "\n",
      "starting FVA simulations . . .\n",
      "25.0 % complete\n",
      "50.0 % complete\n",
      "75.0 % complete\n",
      "100.0 % complete\n",
      "--- 118.7335090637207 seconds ---\n",
      "\n",
      "Calculating significance scores\n",
      "##################\n",
      "Your cuttoff score is 0\n",
      "The median reaction score in the dataset is 449 and the average is 697359320914\n",
      "##################\n",
      "\n"
     ]
    }
   ],
   "source": [
    "referenceCutOff = 0\n",
    "fluxRangeDiff=0\n",
    "optimalFraction=0\n",
    "N=10\n",
    "indigoidine = FluxRETAP.getRecommendations(model=model,\n",
    "                                 UpOrDown=UpOrDown,\n",
    "                                 productRxn=productRxn,\n",
    "                                 carbonSourceRxn=uptakeRxn,\n",
    "                                 biomassRxn=biomassRxn,\n",
    "                                 desiredSystems=desired_systems,\n",
    "                                 N=N, \n",
    "                                 referenceCutOff=referenceCutOff,\n",
    "                                 \n",
    "                                 returnGaussian=returnGaussian,\n",
    "                                 optimalFraction=optimalFraction,\n",
    "                                 fluxRangeDiff=fluxRangeDiff)\n",
    "\n"
   ]
  },
  {
   "cell_type": "code",
   "execution_count": 90,
   "metadata": {},
   "outputs": [
    {
     "name": "stdout",
     "output_type": "stream",
     "text": [
      "total reactions returned :  530\n",
      "reactions returned with genes:  359\n"
     ]
    }
   ],
   "source": [
    "# store the number of returned reactions and returned reactions with associated genes.\n",
    "a = len(indigoidine)\n",
    "a1 = len(indigoidine[indigoidine['bgene']!=\"\"])\n",
    "print('total reactions returned : ',len(indigoidine))\n",
    "\n",
    "print('reactions returned with genes: ',len(indigoidine[indigoidine['bgene']!=\"\"]))\n",
    "\n",
    "# # print number of reactions per subsystem\n",
    "# subsystems=[]\n",
    "# for r in indigoidine.index:\n",
    "#     subsystems.append(model.reactions.get_by_id(r).subsystem)\n",
    "\n",
    "# for i in set(subsystems):\n",
    "#     print(i)\n",
    "#     print((subsystems.count(i)))"
   ]
  },
  {
   "cell_type": "markdown",
   "metadata": {
    "tags": []
   },
   "source": [
    "### Simulation b - biomass 50%"
   ]
  },
  {
   "cell_type": "code",
   "execution_count": 91,
   "metadata": {},
   "outputs": [
    {
     "name": "stdout",
     "output_type": "stream",
     "text": [
      "Fractions of flux: [0.0, 0.1, 0.9, 1.0]\n",
      "Maximum flux to product: 0.434807887131525\n",
      "\n",
      "starting FVA simulations . . .\n",
      "25.0 % complete\n",
      "50.0 % complete\n",
      "75.0 % complete\n",
      "100.0 % complete\n",
      "--- 118.68306183815002 seconds ---\n",
      "\n",
      "Calculating significance scores\n",
      "##################\n",
      "Your cuttoff score is 0\n",
      "The median reaction score in the dataset is 479 and the average is 3597124498\n",
      "##################\n",
      "\n"
     ]
    }
   ],
   "source": [
    "referenceCutOff = 0\n",
    "fluxRangeDiff=0\n",
    "optimalFraction=0.5\n",
    "N=10\n",
    "indigoidine = FluxRETAP.getRecommendations(model=model,\n",
    "                                 UpOrDown=UpOrDown,\n",
    "                                 productRxn=productRxn,\n",
    "                                 carbonSourceRxn=uptakeRxn,\n",
    "                                 biomassRxn=biomassRxn,\n",
    "                                 desiredSystems=desired_systems,\n",
    "                                 N=N, \n",
    "                                 referenceCutOff=referenceCutOff,\n",
    "                                 \n",
    "                                 returnGaussian=returnGaussian,\n",
    "                                 optimalFraction=optimalFraction,\n",
    "                                 fluxRangeDiff=fluxRangeDiff)\n"
   ]
  },
  {
   "cell_type": "code",
   "execution_count": 92,
   "metadata": {},
   "outputs": [
    {
     "name": "stdout",
     "output_type": "stream",
     "text": [
      "total reactions returned :  536\n",
      "reactions returned with genes:  364\n"
     ]
    }
   ],
   "source": [
    "# store the number of returned reactions and returned reactions with associated genes.\n",
    "b = len(indigoidine)\n",
    "b1 = len(indigoidine[indigoidine['bgene']!=\"\"])\n",
    "print('total reactions returned : ',len(indigoidine))\n",
    "\n",
    "print('reactions returned with genes: ',len(indigoidine[indigoidine['bgene']!=\"\"]))\n",
    "\n",
    "# # print number of reactions per subsystem\n",
    "# subsystems=[]\n",
    "# for r in indigoidine.index:\n",
    "#     subsystems.append(model.reactions.get_by_id(r).subsystem)\n",
    "\n",
    "# for i in set(subsystems):\n",
    "#     print(i)\n",
    "#     print((subsystems.count(i)))"
   ]
  },
  {
   "cell_type": "markdown",
   "metadata": {},
   "source": [
    "### Simulation c - biomass 10%"
   ]
  },
  {
   "cell_type": "code",
   "execution_count": 93,
   "metadata": {},
   "outputs": [
    {
     "name": "stdout",
     "output_type": "stream",
     "text": [
      "Fractions of flux: [0.0, 0.1, 0.9, 1.0]\n",
      "Maximum flux to product: 0.7445274846876213\n",
      "\n",
      "starting FVA simulations . . .\n",
      "25.0 % complete\n",
      "50.0 % complete\n",
      "75.0 % complete\n",
      "100.0 % complete\n",
      "--- 117.25062894821167 seconds ---\n",
      "\n",
      "Calculating significance scores\n",
      "##################\n",
      "Your cuttoff score is 0\n",
      "The median reaction score in the dataset is 448 and the average is 3966947687\n",
      "##################\n",
      "\n"
     ]
    }
   ],
   "source": [
    "referenceCutOff = 0\n",
    "fluxRangeDiff=0\n",
    "optimalFraction=0.1\n",
    "N=10\n",
    "indigoidine = FluxRETAP.getRecommendations(model=model,\n",
    "                                 UpOrDown=UpOrDown,\n",
    "                                 productRxn=productRxn,\n",
    "                                 carbonSourceRxn=uptakeRxn,\n",
    "                                 biomassRxn=biomassRxn,\n",
    "                                 desiredSystems=desired_systems,\n",
    "                                 N=N, \n",
    "                                 referenceCutOff=referenceCutOff,\n",
    "                                 \n",
    "                                 returnGaussian=returnGaussian,\n",
    "                                 optimalFraction=optimalFraction,\n",
    "                                 fluxRangeDiff=fluxRangeDiff)\n"
   ]
  },
  {
   "cell_type": "code",
   "execution_count": 94,
   "metadata": {},
   "outputs": [
    {
     "name": "stdout",
     "output_type": "stream",
     "text": [
      "total reactions returned :  549\n",
      "reactions returned with genes:  371\n"
     ]
    }
   ],
   "source": [
    "# store the number of returned reactions and returned reactions with associated genes.\n",
    "c= len(indigoidine)\n",
    "c1 = len(indigoidine[indigoidine['bgene']!=\"\"])\n",
    "print('total reactions returned : ',len(indigoidine))\n",
    "\n",
    "print('reactions returned with genes: ',len(indigoidine[indigoidine['bgene']!=\"\"]))\n",
    "\n",
    "# # print number of reactions per subsystem\n",
    "# subsystems=[]\n",
    "# for r in indigoidine.index:\n",
    "#     subsystems.append(model.reactions.get_by_id(r).subsystem)\n",
    "\n",
    "# for i in set(subsystems):\n",
    "#     print(i)\n",
    "#     print((subsystems.count(i)))"
   ]
  },
  {
   "cell_type": "markdown",
   "metadata": {},
   "source": [
    "### Simulation d - biomass 90%"
   ]
  },
  {
   "cell_type": "code",
   "execution_count": 95,
   "metadata": {},
   "outputs": [
    {
     "name": "stdout",
     "output_type": "stream",
     "text": [
      "Fractions of flux: [0.0, 0.1, 0.9, 1.0]\n",
      "Maximum flux to product: 0.09974128760219901\n",
      "\n",
      "starting FVA simulations . . .\n",
      "25.0 % complete\n",
      "50.0 % complete\n",
      "75.0 % complete\n",
      "100.0 % complete\n",
      "--- 115.95865607261658 seconds ---\n",
      "\n",
      "Calculating significance scores\n",
      "##################\n",
      "Your cuttoff score is 0\n",
      "The median reaction score in the dataset is 548 and the average is 802057937\n",
      "##################\n",
      "\n"
     ]
    }
   ],
   "source": [
    "referenceCutOff = 0\n",
    "fluxRangeDiff=0\n",
    "optimalFraction=0.9\n",
    "N=10\n",
    "indigoidine = FluxRETAP.getRecommendations(model=model,\n",
    "                                 UpOrDown=UpOrDown,\n",
    "                                 productRxn=productRxn,\n",
    "                                 carbonSourceRxn=uptakeRxn,\n",
    "                                 biomassRxn=biomassRxn,\n",
    "                                 desiredSystems=desired_systems,\n",
    "                                 N=N, \n",
    "                                 referenceCutOff=referenceCutOff,\n",
    "                                 \n",
    "                                 returnGaussian=returnGaussian,\n",
    "                                 optimalFraction=optimalFraction,\n",
    "                                 fluxRangeDiff=fluxRangeDiff)\n"
   ]
  },
  {
   "cell_type": "code",
   "execution_count": 96,
   "metadata": {},
   "outputs": [
    {
     "name": "stdout",
     "output_type": "stream",
     "text": [
      "total reactions returned :  535\n",
      "reactions returned with genes:  360\n"
     ]
    }
   ],
   "source": [
    "# store the number of returned reactions and returned reactions with associated genes.\n",
    "d = len(indigoidine)\n",
    "d1 = len(indigoidine[indigoidine['bgene']!=\"\"])\n",
    "print('total reactions returned : ',len(indigoidine))\n",
    "\n",
    "print('reactions returned with genes: ',len(indigoidine[indigoidine['bgene']!=\"\"]))\n",
    "\n",
    "# # print number of reactions per subsystem\n",
    "# subsystems=[]\n",
    "# for r in indigoidine.index:\n",
    "#     subsystems.append(model.reactions.get_by_id(r).subsystem)\n",
    "\n",
    "# for i in set(subsystems):\n",
    "#     print(i)\n",
    "#     print((subsystems.count(i)))"
   ]
  },
  {
   "cell_type": "markdown",
   "metadata": {
    "tags": []
   },
   "source": [
    "### Simulation e - fluxRangeDiff = 0.01 $\\frac{mmol}{gDCW.h} $"
   ]
  },
  {
   "cell_type": "code",
   "execution_count": 97,
   "metadata": {},
   "outputs": [
    {
     "name": "stdout",
     "output_type": "stream",
     "text": [
      "Fractions of flux: [0.0, 0.1, 0.9, 1.0]\n",
      "Maximum flux to product: 0.796116504854376\n",
      "\n",
      "starting FVA simulations . . .\n",
      "25.0 % complete\n",
      "50.0 % complete\n",
      "75.0 % complete\n",
      "100.0 % complete\n",
      "--- 112.91496896743774 seconds ---\n",
      "\n",
      "Calculating significance scores\n",
      "##################\n",
      "Your cuttoff score is 0\n",
      "The median reaction score in the dataset is 449 and the average is 699663371488\n",
      "##################\n",
      "\n"
     ]
    }
   ],
   "source": [
    "referenceCutOff = 0\n",
    "fluxRangeDiff=0.01\n",
    "optimalFraction=0\n",
    "N=10\n",
    "indigoidine = FluxRETAP.getRecommendations(model=model,\n",
    "                                 UpOrDown=UpOrDown,\n",
    "                                 productRxn=productRxn,\n",
    "                                 carbonSourceRxn=uptakeRxn,\n",
    "                                 biomassRxn=biomassRxn,\n",
    "                                 desiredSystems=desired_systems,\n",
    "                                 N=N, \n",
    "                                 referenceCutOff=referenceCutOff,\n",
    "                                 \n",
    "                                 returnGaussian=returnGaussian,\n",
    "                                 optimalFraction=optimalFraction,\n",
    "                                 fluxRangeDiff=fluxRangeDiff)\n"
   ]
  },
  {
   "cell_type": "code",
   "execution_count": 98,
   "metadata": {},
   "outputs": [
    {
     "name": "stdout",
     "output_type": "stream",
     "text": [
      "total reactions returned :  83\n",
      "reactions returned with genes:  55\n"
     ]
    }
   ],
   "source": [
    "# store the number of returned reactions and returned reactions with associated genes.\n",
    "e = len(indigoidine)\n",
    "e1 = len(indigoidine[indigoidine['bgene']!=\"\"])\n",
    "print('total reactions returned : ',len(indigoidine))\n",
    "\n",
    "print('reactions returned with genes: ',len(indigoidine[indigoidine['bgene']!=\"\"]))\n",
    "\n",
    "# # print number of reactions per subsystem\n",
    "# subsystems=[]\n",
    "# for r in indigoidine.index:\n",
    "#     subsystems.append(model.reactions.get_by_id(r).subsystem)\n",
    "\n",
    "# for i in set(subsystems):\n",
    "#     print(i)\n",
    "#     print((subsystems.count(i)))"
   ]
  },
  {
   "cell_type": "markdown",
   "metadata": {},
   "source": [
    "### Simulation f - fluxRangeDiff = 0.05 $\\frac{mmol}{gDCW.h} $"
   ]
  },
  {
   "cell_type": "code",
   "execution_count": 99,
   "metadata": {},
   "outputs": [
    {
     "name": "stdout",
     "output_type": "stream",
     "text": [
      "Fractions of flux: [0.0, 0.1, 0.9, 1.0]\n",
      "Maximum flux to product: 0.7961165048543686\n",
      "\n",
      "starting FVA simulations . . .\n",
      "25.0 % complete\n",
      "50.0 % complete\n",
      "75.0 % complete\n",
      "100.0 % complete\n",
      "--- 113.23944902420044 seconds ---\n",
      "\n",
      "Calculating significance scores\n",
      "##################\n",
      "Your cuttoff score is 0\n",
      "The median reaction score in the dataset is 449 and the average is 698125649688\n",
      "##################\n",
      "\n"
     ]
    }
   ],
   "source": [
    "referenceCutOff = 0\n",
    "fluxRangeDiff=0.05\n",
    "optimalFraction=0\n",
    "N=10\n",
    "indigoidine = FluxRETAP.getRecommendations(model=model,\n",
    "                                 UpOrDown=UpOrDown,\n",
    "                                 productRxn=productRxn,\n",
    "                                 carbonSourceRxn=uptakeRxn,\n",
    "                                 biomassRxn=biomassRxn,\n",
    "                                 desiredSystems=desired_systems,\n",
    "                                 N=N, \n",
    "                                 referenceCutOff=referenceCutOff,\n",
    "                                 \n",
    "                                 returnGaussian=returnGaussian,\n",
    "                                 optimalFraction=optimalFraction,\n",
    "                                 fluxRangeDiff=fluxRangeDiff)\n"
   ]
  },
  {
   "cell_type": "code",
   "execution_count": 100,
   "metadata": {},
   "outputs": [
    {
     "name": "stdout",
     "output_type": "stream",
     "text": [
      "total reactions returned :  41\n",
      "reactions returned with genes:  24\n"
     ]
    }
   ],
   "source": [
    "# store the number of returned reactions and returned reactions with associated genes.\n",
    "f = len(indigoidine)\n",
    "f1 = len(indigoidine[indigoidine['bgene']!=\"\"])\n",
    "print('total reactions returned : ',len(indigoidine))\n",
    "\n",
    "print('reactions returned with genes: ',len(indigoidine[indigoidine['bgene']!=\"\"]))\n",
    "\n",
    "# # print number of reactions per subsystem\n",
    "# subsystems=[]\n",
    "# for r in indigoidine.index:\n",
    "#     subsystems.append(model.reactions.get_by_id(r).subsystem)\n",
    "\n",
    "# for i in set(subsystems):\n",
    "#     print(i)\n",
    "#     print((subsystems.count(i)))"
   ]
  },
  {
   "cell_type": "markdown",
   "metadata": {},
   "source": [
    "### Simulation g - fluxRangeDiff = 0.1 $\\frac{mmol}{gDCW.h} $"
   ]
  },
  {
   "cell_type": "code",
   "execution_count": 101,
   "metadata": {},
   "outputs": [
    {
     "name": "stdout",
     "output_type": "stream",
     "text": [
      "Fractions of flux: [0.0, 0.1, 0.9, 1.0]\n",
      "Maximum flux to product: 0.7961165048543657\n",
      "\n",
      "starting FVA simulations . . .\n",
      "25.0 % complete\n",
      "50.0 % complete\n",
      "75.0 % complete\n",
      "100.0 % complete\n",
      "--- 113.27696990966797 seconds ---\n",
      "\n",
      "Calculating significance scores\n",
      "##################\n",
      "Your cuttoff score is 0\n",
      "The median reaction score in the dataset is 449 and the average is 697359320809\n",
      "##################\n",
      "\n"
     ]
    }
   ],
   "source": [
    "referenceCutOff = 0\n",
    "fluxRangeDiff=0.1\n",
    "optimalFraction=0\n",
    "N=10\n",
    "indigoidine = FluxRETAP.getRecommendations(model=model,\n",
    "                                 UpOrDown=UpOrDown,\n",
    "                                 productRxn=productRxn,\n",
    "                                 carbonSourceRxn=uptakeRxn,\n",
    "                                 biomassRxn=biomassRxn,\n",
    "                                 desiredSystems=desired_systems,\n",
    "                                 N=N, \n",
    "                                 referenceCutOff=referenceCutOff,\n",
    "                                 \n",
    "                                 returnGaussian=returnGaussian,\n",
    "                                 optimalFraction=optimalFraction,\n",
    "                                 fluxRangeDiff=fluxRangeDiff)\n"
   ]
  },
  {
   "cell_type": "code",
   "execution_count": 102,
   "metadata": {},
   "outputs": [
    {
     "name": "stdout",
     "output_type": "stream",
     "text": [
      "total reactions returned :  31\n",
      "reactions returned with genes:  15\n"
     ]
    }
   ],
   "source": [
    "# store the number of returned reactions and returned reactions with associated genes.\n",
    "\n",
    "g = len(indigoidine)\n",
    "g1 = len(indigoidine[indigoidine['bgene']!=\"\"])\n",
    "print('total reactions returned : ',len(indigoidine))\n",
    "\n",
    "print('reactions returned with genes: ',len(indigoidine[indigoidine['bgene']!=\"\"]))\n",
    "\n",
    "# # print number of reactions per subsystem\n",
    "# subsystems=[]\n",
    "# for r in indigoidine.index:\n",
    "#     subsystems.append(model.reactions.get_by_id(r).subsystem)\n",
    "\n",
    "# for i in set(subsystems):\n",
    "#     print(i)\n",
    "#     print((subsystems.count(i)))"
   ]
  },
  {
   "cell_type": "markdown",
   "metadata": {
    "tags": []
   },
   "source": [
    "### Simulation h - referenceCutOff = 500"
   ]
  },
  {
   "cell_type": "code",
   "execution_count": 103,
   "metadata": {},
   "outputs": [
    {
     "name": "stdout",
     "output_type": "stream",
     "text": [
      "Fractions of flux: [0.0, 0.1, 0.9, 1.0]\n",
      "Maximum flux to product: 0.796116504854351\n",
      "\n",
      "starting FVA simulations . . .\n",
      "25.0 % complete\n",
      "50.0 % complete\n",
      "75.0 % complete\n",
      "100.0 % complete\n",
      "--- 113.21208500862122 seconds ---\n",
      "\n",
      "Calculating significance scores\n",
      "##################\n",
      "Your cuttoff score is 500\n",
      "The median reaction score in the dataset is 449 and the average is 701982697390\n",
      "##################\n",
      "\n"
     ]
    }
   ],
   "source": [
    "referenceCutOff = 500\n",
    "fluxRangeDiff=0\n",
    "optimalFraction=0\n",
    "N=10\n",
    "indigoidine = FluxRETAP.getRecommendations(model=model,\n",
    "                                 UpOrDown=UpOrDown,\n",
    "                                 productRxn=productRxn,\n",
    "                                 carbonSourceRxn=uptakeRxn,\n",
    "                                 biomassRxn=biomassRxn,\n",
    "                                 desiredSystems=desired_systems,\n",
    "                                 N=N, \n",
    "                                 referenceCutOff=referenceCutOff,\n",
    "                                 \n",
    "                                 returnGaussian=returnGaussian,\n",
    "                                 optimalFraction=optimalFraction,\n",
    "                                 fluxRangeDiff=fluxRangeDiff)\n"
   ]
  },
  {
   "cell_type": "code",
   "execution_count": 104,
   "metadata": {},
   "outputs": [
    {
     "name": "stdout",
     "output_type": "stream",
     "text": [
      "total reactions returned :  138\n",
      "reactions returned with genes:  104\n"
     ]
    }
   ],
   "source": [
    "# store the number of returned reactions and returned reactions with associated genes.\n",
    "h = len(indigoidine)\n",
    "h1 = len(indigoidine[indigoidine['bgene']!=\"\"])\n",
    "print('total reactions returned : ',len(indigoidine))\n",
    "\n",
    "print('reactions returned with genes: ',len(indigoidine[indigoidine['bgene']!=\"\"]))\n",
    "\n",
    "# # print number of reactions per subsystem\n",
    "# subsystems=[]\n",
    "# for r in indigoidine.index:\n",
    "#     subsystems.append(model.reactions.get_by_id(r).subsystem)\n",
    "\n",
    "# for i in set(subsystems):\n",
    "#     print(i)\n",
    "#     print((subsystems.count(i)))"
   ]
  },
  {
   "cell_type": "markdown",
   "metadata": {},
   "source": [
    "### Simulation j - referenceCutOff = 1500\n",
    "\n",
    "no simulation 'i', 'i' is used as a variable used in a for loop"
   ]
  },
  {
   "cell_type": "code",
   "execution_count": 105,
   "metadata": {},
   "outputs": [
    {
     "name": "stdout",
     "output_type": "stream",
     "text": [
      "Fractions of flux: [0.0, 0.1, 0.9, 1.0]\n",
      "Maximum flux to product: 0.7961165048543662\n",
      "\n",
      "starting FVA simulations . . .\n",
      "25.0 % complete\n",
      "50.0 % complete\n",
      "75.0 % complete\n",
      "100.0 % complete\n",
      "--- 111.9221830368042 seconds ---\n",
      "\n",
      "Calculating significance scores\n",
      "##################\n",
      "Your cuttoff score is 1500\n",
      "The median reaction score in the dataset is 449 and the average is 695831699111\n",
      "##################\n",
      "\n"
     ]
    }
   ],
   "source": [
    "referenceCutOff = 1500\n",
    "fluxRangeDiff=0\n",
    "optimalFraction=0\n",
    "N=10\n",
    "indigoidine = FluxRETAP.getRecommendations(model=model,\n",
    "                                 UpOrDown=UpOrDown,\n",
    "                                 productRxn=productRxn,\n",
    "                                 carbonSourceRxn=uptakeRxn,\n",
    "                                 biomassRxn=biomassRxn,\n",
    "                                 desiredSystems=desired_systems,\n",
    "                                 N=N, \n",
    "                                 referenceCutOff=referenceCutOff,\n",
    "                                 \n",
    "                                 returnGaussian=returnGaussian,\n",
    "                                 optimalFraction=optimalFraction,\n",
    "                                 fluxRangeDiff=fluxRangeDiff)\n"
   ]
  },
  {
   "cell_type": "code",
   "execution_count": 106,
   "metadata": {},
   "outputs": [
    {
     "name": "stdout",
     "output_type": "stream",
     "text": [
      "total reactions returned :  50\n",
      "reactions returned with genes:  41\n"
     ]
    }
   ],
   "source": [
    "# store the number of returned reactions and returned reactions with associated genes.\n",
    "j = len(indigoidine)\n",
    "j1 = len(indigoidine[indigoidine['bgene']!=\"\"])\n",
    "print('total reactions returned : ',len(indigoidine))\n",
    "\n",
    "print('reactions returned with genes: ',len(indigoidine[indigoidine['bgene']!=\"\"]))\n",
    "\n",
    "# # print number of reactions per subsystem\n",
    "# subsystems=[]\n",
    "# for r in indigoidine.index:\n",
    "#     subsystems.append(model.reactions.get_by_id(r).subsystem)\n",
    "\n",
    "# for i in set(subsystems):\n",
    "#     print(i)\n",
    "#     print((subsystems.count(i)))"
   ]
  },
  {
   "cell_type": "markdown",
   "metadata": {},
   "source": [
    "### Simulation k - referenceCutOff = 500"
   ]
  },
  {
   "cell_type": "code",
   "execution_count": 107,
   "metadata": {},
   "outputs": [
    {
     "name": "stdout",
     "output_type": "stream",
     "text": [
      "Fractions of flux: [0.0, 0.1, 0.9, 1.0]\n",
      "Maximum flux to product: 0.7961165048543385\n",
      "\n",
      "starting FVA simulations . . .\n",
      "25.0 % complete\n",
      "50.0 % complete\n",
      "75.0 % complete\n",
      "100.0 % complete\n",
      "--- 120.85955882072449 seconds ---\n",
      "\n",
      "Calculating significance scores\n",
      "##################\n",
      "Your cuttoff score is 5000\n",
      "The median reaction score in the dataset is 449 and the average is 700434775408\n",
      "##################\n",
      "\n"
     ]
    }
   ],
   "source": [
    "referenceCutOff = 5000\n",
    "fluxRangeDiff=0\n",
    "optimalFraction=0\n",
    "N=10\n",
    "indigoidine = FluxRETAP.getRecommendations(model=model,\n",
    "                                 UpOrDown=UpOrDown,\n",
    "                                 productRxn=productRxn,\n",
    "                                 carbonSourceRxn=uptakeRxn,\n",
    "                                 biomassRxn=biomassRxn,\n",
    "                                 desiredSystems=desired_systems,\n",
    "                                 N=N, \n",
    "                                 referenceCutOff=referenceCutOff,\n",
    "                                 \n",
    "                                 returnGaussian=returnGaussian,\n",
    "                                 optimalFraction=optimalFraction,\n",
    "                                 fluxRangeDiff=fluxRangeDiff)\n"
   ]
  },
  {
   "cell_type": "code",
   "execution_count": 108,
   "metadata": {},
   "outputs": [
    {
     "name": "stdout",
     "output_type": "stream",
     "text": [
      "total reactions returned :  42\n",
      "reactions returned with genes:  33\n"
     ]
    }
   ],
   "source": [
    "# store the number of returned reactions and returned reactions with associated genes.\n",
    "\n",
    "k = len(indigoidine)\n",
    "k1 = len(indigoidine[indigoidine['bgene']!=\"\"])\n",
    "print('total reactions returned : ',len(indigoidine))\n",
    "\n",
    "print('reactions returned with genes: ',len(indigoidine[indigoidine['bgene']!=\"\"]))\n",
    "\n",
    "# # print number of reactions per subsystem\n",
    "# subsystems=[]\n",
    "# for r in indigoidine.index:\n",
    "#     subsystems.append(model.reactions.get_by_id(r).subsystem)\n",
    "\n",
    "# for i in set(subsystems):\n",
    "#     print(i)\n",
    "#     print((subsystems.count(i)))"
   ]
  },
  {
   "cell_type": "markdown",
   "metadata": {
    "tags": []
   },
   "source": [
    "### Simulation m - N = 100"
   ]
  },
  {
   "cell_type": "code",
   "execution_count": 109,
   "metadata": {},
   "outputs": [
    {
     "name": "stdout",
     "output_type": "stream",
     "text": [
      "Fractions of flux: [0.0, 0.01, 0.99, 1.0]\n",
      "Maximum flux to product: 0.7961165048543586\n",
      "\n",
      "starting FVA simulations . . .\n",
      "25.0 % complete\n",
      "50.0 % complete\n",
      "75.0 % complete\n",
      "100.0 % complete\n",
      "--- 110.07252717018127 seconds ---\n",
      "\n",
      "Calculating significance scores\n",
      "##################\n",
      "Your cuttoff score is 0\n",
      "The median reaction score in the dataset is 457 and the average is inf\n",
      "##################\n",
      "\n"
     ]
    }
   ],
   "source": [
    "referenceCutOff = 0\n",
    "fluxRangeDiff=0\n",
    "optimalFraction=0\n",
    "N=100\n",
    "indigoidine = FluxRETAP.getRecommendations(model=model,\n",
    "                                 UpOrDown=UpOrDown,\n",
    "                                 productRxn=productRxn,\n",
    "                                 carbonSourceRxn=uptakeRxn,\n",
    "                                 biomassRxn=biomassRxn,\n",
    "                                 desiredSystems=desired_systems,\n",
    "                                 N=N, \n",
    "                                 referenceCutOff=referenceCutOff,\n",
    "                                 \n",
    "                                 returnGaussian=returnGaussian,\n",
    "                                 optimalFraction=optimalFraction,\n",
    "                                 fluxRangeDiff=fluxRangeDiff)\n"
   ]
  },
  {
   "cell_type": "code",
   "execution_count": 110,
   "metadata": {
    "tags": []
   },
   "outputs": [
    {
     "name": "stdout",
     "output_type": "stream",
     "text": [
      "total reactions returned :  538\n",
      "reactions returned with genes:  364\n"
     ]
    }
   ],
   "source": [
    "\n",
    "# store the number of returned reactions and returned reactions with associated genes.\n",
    "m = len(indigoidine)\n",
    "m1 = len(indigoidine[indigoidine['bgene']!=\"\"])\n",
    "print('total reactions returned : ',len(indigoidine))\n",
    "\n",
    "print('reactions returned with genes: ',len(indigoidine[indigoidine['bgene']!=\"\"]))\n",
    "\n",
    "# # print number of reactions per subsystem\n",
    "# subsystems=[]\n",
    "# for r in indigoidine.index:\n",
    "#     subsystems.append(model.reactions.get_by_id(r).subsystem)\n",
    "\n",
    "# for i in set(subsystems):\n",
    "#     print(i)\n",
    "#     print((subsystems.count(i)))"
   ]
  },
  {
   "cell_type": "markdown",
   "metadata": {},
   "source": [
    "### Simulation n - N = 800\n",
    "\n",
    "setting step to 1000 takes very long time to complete. "
   ]
  },
  {
   "cell_type": "code",
   "execution_count": 111,
   "metadata": {},
   "outputs": [
    {
     "name": "stdout",
     "output_type": "stream",
     "text": [
      "Fractions of flux: [0.0, 0.00125, 0.99875, 1.0]\n",
      "Maximum flux to product: 0.7961165048543624\n",
      "\n",
      "starting FVA simulations . . .\n",
      "25.0 % complete\n",
      "50.0 % complete\n",
      "75.0 % complete\n",
      "100.0 % complete\n",
      "--- 113.6689522266388 seconds ---\n",
      "\n",
      "Calculating significance scores\n",
      "##################\n",
      "Your cuttoff score is 0\n",
      "The median reaction score in the dataset is 458 and the average is inf\n",
      "##################\n",
      "\n"
     ]
    }
   ],
   "source": [
    "referenceCutOff = 0\n",
    "fluxRangeDiff=0\n",
    "optimalFraction=0\n",
    "N=800 # setting step to 1000 takes very long time to complete. \n",
    "indigoidine = FluxRETAP.getRecommendations(model=model,\n",
    "                                 UpOrDown=UpOrDown,\n",
    "                                 productRxn=productRxn,\n",
    "                                 carbonSourceRxn=uptakeRxn,\n",
    "                                 biomassRxn=biomassRxn,\n",
    "                                 desiredSystems=desired_systems,\n",
    "                                 N=N, \n",
    "                                 referenceCutOff=referenceCutOff,\n",
    "                                 \n",
    "                                 returnGaussian=returnGaussian,\n",
    "                                 optimalFraction=optimalFraction,\n",
    "                                 fluxRangeDiff=fluxRangeDiff)\n"
   ]
  },
  {
   "cell_type": "code",
   "execution_count": 112,
   "metadata": {
    "tags": []
   },
   "outputs": [
    {
     "name": "stdout",
     "output_type": "stream",
     "text": [
      "total reactions returned :  538\n",
      "reactions returned with genes:  361\n"
     ]
    }
   ],
   "source": [
    "# store the number of returned reactions and returned reactions with associated genes.\n",
    "n = len(indigoidine)\n",
    "n1 = len(indigoidine[indigoidine['bgene']!=\"\"])\n",
    "print('total reactions returned : ',len(indigoidine))\n",
    "\n",
    "print('reactions returned with genes: ',len(indigoidine[indigoidine['bgene']!=\"\"]))\n",
    "\n",
    "# # print number of reactions per subsystem\n",
    "# subsystems=[]\n",
    "# for r in indigoidine.index:\n",
    "#     subsystems.append(model.reactions.get_by_id(r).subsystem)\n",
    "\n",
    "# for i in set(subsystems):\n",
    "#     print(i)\n",
    "#     print((subsystems.count(i)))"
   ]
  },
  {
   "cell_type": "markdown",
   "metadata": {},
   "source": [
    "### Save the *S. cerevisiae* results"
   ]
  },
  {
   "cell_type": "code",
   "execution_count": 113,
   "metadata": {},
   "outputs": [],
   "source": [
    "# temporary store the results. \n",
    "results = [[a,a1],\n",
    "           [b,b1],\n",
    "           [c,c1],\n",
    "           [d,d1],\n",
    "           [e,e1],\n",
    "           [f,f1],\n",
    "           [g,g1],\n",
    "           [h,h1],\n",
    "           [j,j1],\n",
    "           [k,k1],\n",
    "          [m,m1],\n",
    "          [n,n1]]"
   ]
  },
  {
   "cell_type": "code",
   "execution_count": 114,
   "metadata": {},
   "outputs": [
    {
     "data": {
      "text/plain": [
       "[[530, 359],\n",
       " [536, 364],\n",
       " [549, 371],\n",
       " [535, 360],\n",
       " [83, 55],\n",
       " [41, 24],\n",
       " [31, 15],\n",
       " [138, 104],\n",
       " [50, 41],\n",
       " [42, 33],\n",
       " [538, 364],\n",
       " [538, 361]]"
      ]
     },
     "execution_count": 114,
     "metadata": {},
     "output_type": "execute_result"
    }
   ],
   "source": [
    "results_scerevisiae = results.copy()\n",
    "results_scerevisiae"
   ]
  },
  {
   "cell_type": "markdown",
   "metadata": {},
   "source": [
    "### Simulation time"
   ]
  },
  {
   "cell_type": "code",
   "execution_count": 115,
   "metadata": {},
   "outputs": [
    {
     "name": "stdout",
     "output_type": "stream",
     "text": [
      "Execution time: 94 minutes and 55 seconds\n"
     ]
    }
   ],
   "source": [
    "end_time = timeit.default_timer()\n",
    "execution_time = end_time - start_time\n",
    "minutes = int(execution_time // 60)\n",
    "seconds = int(execution_time % 60)\n",
    "print(\"Execution time:\", minutes, \"minutes and\", seconds, \"seconds\")"
   ]
  },
  {
   "cell_type": "markdown",
   "metadata": {},
   "source": [
    "# Examine all results\n",
    "\n",
    "We combine the saved results for each species into one dataframe for comparison"
   ]
  },
  {
   "cell_type": "code",
   "execution_count": 116,
   "metadata": {},
   "outputs": [],
   "source": [
    "# simulated cases\n",
    "cases = ['no restrictions',\n",
    "          '50% bio',\n",
    "          '10% bio',\n",
    "          '90% bio',\n",
    "          'fluxRangeDiff 0.01',\n",
    "          'fluxRangeDiff 0.05',\n",
    "          'fluxRangeDiff 0.10',\n",
    "          'rxnRef 500',\n",
    "          'rxnRef 1500',\n",
    "          'rxnRef 5000',\n",
    "         'N=100',\n",
    "         'N=1000']"
   ]
  },
  {
   "cell_type": "code",
   "execution_count": 117,
   "metadata": {},
   "outputs": [],
   "source": [
    "# dataframe to store the results.\n",
    "results = pd.DataFrame()\n",
    "results['cases'] = cases\n",
    "results['Ecoli'] = results_ecoli\n",
    "results['putida'] = results_putida\n",
    "results['Scere'] = results_scerevisiae\n"
   ]
  },
  {
   "cell_type": "markdown",
   "metadata": {},
   "source": [
    "The two numbers for each species shown in results represent the number of total reaction targets returned and the number of reactions with an associated gene, from left to right, respectively. \n",
    "\n",
    "e.g., **[number of reactions, number of reactions with associated genes]**\n",
    "\n",
    "The cases refer to the parameter that was chagned, with the setpont specified in the case description. "
   ]
  },
  {
   "cell_type": "code",
   "execution_count": 118,
   "metadata": {
    "tags": []
   },
   "outputs": [
    {
     "data": {
      "text/html": [
       "<div>\n",
       "<style scoped>\n",
       "    .dataframe tbody tr th:only-of-type {\n",
       "        vertical-align: middle;\n",
       "    }\n",
       "\n",
       "    .dataframe tbody tr th {\n",
       "        vertical-align: top;\n",
       "    }\n",
       "\n",
       "    .dataframe thead th {\n",
       "        text-align: right;\n",
       "    }\n",
       "</style>\n",
       "<table border=\"1\" class=\"dataframe\">\n",
       "  <thead>\n",
       "    <tr style=\"text-align: right;\">\n",
       "      <th></th>\n",
       "      <th>cases</th>\n",
       "      <th>Ecoli</th>\n",
       "      <th>putida</th>\n",
       "      <th>Scere</th>\n",
       "    </tr>\n",
       "  </thead>\n",
       "  <tbody>\n",
       "    <tr>\n",
       "      <th>0</th>\n",
       "      <td>no restrictions</td>\n",
       "      <td>[942, 869]</td>\n",
       "      <td>[939, 758]</td>\n",
       "      <td>[530, 359]</td>\n",
       "    </tr>\n",
       "    <tr>\n",
       "      <th>1</th>\n",
       "      <td>50% bio</td>\n",
       "      <td>[945, 872]</td>\n",
       "      <td>[940, 762]</td>\n",
       "      <td>[536, 364]</td>\n",
       "    </tr>\n",
       "    <tr>\n",
       "      <th>2</th>\n",
       "      <td>10% bio</td>\n",
       "      <td>[946, 873]</td>\n",
       "      <td>[940, 757]</td>\n",
       "      <td>[549, 371]</td>\n",
       "    </tr>\n",
       "    <tr>\n",
       "      <th>3</th>\n",
       "      <td>90% bio</td>\n",
       "      <td>[942, 869]</td>\n",
       "      <td>[941, 763]</td>\n",
       "      <td>[535, 360]</td>\n",
       "    </tr>\n",
       "    <tr>\n",
       "      <th>4</th>\n",
       "      <td>fluxRangeDiff 0.01</td>\n",
       "      <td>[320, 301]</td>\n",
       "      <td>[364, 308]</td>\n",
       "      <td>[83, 55]</td>\n",
       "    </tr>\n",
       "    <tr>\n",
       "      <th>5</th>\n",
       "      <td>fluxRangeDiff 0.05</td>\n",
       "      <td>[66, 61]</td>\n",
       "      <td>[72, 66]</td>\n",
       "      <td>[41, 24]</td>\n",
       "    </tr>\n",
       "    <tr>\n",
       "      <th>6</th>\n",
       "      <td>fluxRangeDiff 0.10</td>\n",
       "      <td>[50, 46]</td>\n",
       "      <td>[49, 44]</td>\n",
       "      <td>[31, 15]</td>\n",
       "    </tr>\n",
       "    <tr>\n",
       "      <th>7</th>\n",
       "      <td>rxnRef 500</td>\n",
       "      <td>[112, 107]</td>\n",
       "      <td>[150, 140]</td>\n",
       "      <td>[138, 104]</td>\n",
       "    </tr>\n",
       "    <tr>\n",
       "      <th>8</th>\n",
       "      <td>rxnRef 1500</td>\n",
       "      <td>[56, 54]</td>\n",
       "      <td>[50, 45]</td>\n",
       "      <td>[50, 41]</td>\n",
       "    </tr>\n",
       "    <tr>\n",
       "      <th>9</th>\n",
       "      <td>rxnRef 5000</td>\n",
       "      <td>[41, 38]</td>\n",
       "      <td>[39, 33]</td>\n",
       "      <td>[42, 33]</td>\n",
       "    </tr>\n",
       "    <tr>\n",
       "      <th>10</th>\n",
       "      <td>N=100</td>\n",
       "      <td>[944, 871]</td>\n",
       "      <td>[939, 760]</td>\n",
       "      <td>[538, 364]</td>\n",
       "    </tr>\n",
       "    <tr>\n",
       "      <th>11</th>\n",
       "      <td>N=1000</td>\n",
       "      <td>[948, 875]</td>\n",
       "      <td>[947, 764]</td>\n",
       "      <td>[538, 361]</td>\n",
       "    </tr>\n",
       "  </tbody>\n",
       "</table>\n",
       "</div>"
      ],
      "text/plain": [
       "                 cases       Ecoli      putida       Scere\n",
       "0      no restrictions  [942, 869]  [939, 758]  [530, 359]\n",
       "1              50% bio  [945, 872]  [940, 762]  [536, 364]\n",
       "2              10% bio  [946, 873]  [940, 757]  [549, 371]\n",
       "3              90% bio  [942, 869]  [941, 763]  [535, 360]\n",
       "4   fluxRangeDiff 0.01  [320, 301]  [364, 308]    [83, 55]\n",
       "5   fluxRangeDiff 0.05    [66, 61]    [72, 66]    [41, 24]\n",
       "6   fluxRangeDiff 0.10    [50, 46]    [49, 44]    [31, 15]\n",
       "7           rxnRef 500  [112, 107]  [150, 140]  [138, 104]\n",
       "8          rxnRef 1500    [56, 54]    [50, 45]    [50, 41]\n",
       "9          rxnRef 5000    [41, 38]    [39, 33]    [42, 33]\n",
       "10               N=100  [944, 871]  [939, 760]  [538, 364]\n",
       "11              N=1000  [948, 875]  [947, 764]  [538, 361]"
      ]
     },
     "execution_count": 118,
     "metadata": {},
     "output_type": "execute_result"
    }
   ],
   "source": [
    "results"
   ]
  },
  {
   "cell_type": "code",
   "execution_count": null,
   "metadata": {},
   "outputs": [],
   "source": []
  },
  {
   "cell_type": "markdown",
   "metadata": {
    "toc-hr-collapsed": true
   },
   "source": [
    "# Analysis of results \n",
    "\n",
    "Count and compare the number of reactions with genes that are returned for each case against the number of active reactions with associated genes."
   ]
  },
  {
   "cell_type": "markdown",
   "metadata": {},
   "source": [
    "## *E. coli*"
   ]
  },
  {
   "cell_type": "code",
   "execution_count": 119,
   "metadata": {},
   "outputs": [
    {
     "data": {
      "text/plain": [
       "2130"
      ]
     },
     "execution_count": 119,
     "metadata": {},
     "output_type": "execute_result"
    }
   ],
   "source": [
    "# count the number of reactions with genes in E. coli \n",
    "count=0\n",
    "for reac in ecoli.reactions:\n",
    "    if reac.gene_reaction_rule!=\"\":\n",
    "        count+=1\n",
    "count"
   ]
  },
  {
   "cell_type": "markdown",
   "metadata": {},
   "source": [
    "2130 reactions with an associated gene"
   ]
  },
  {
   "cell_type": "code",
   "execution_count": 120,
   "metadata": {},
   "outputs": [],
   "source": [
    "# perform FVA to determine how many reactions are active during growth\n",
    "fva_result = fva(ecoli)\n"
   ]
  },
  {
   "cell_type": "code",
   "execution_count": 121,
   "metadata": {},
   "outputs": [
    {
     "data": {
      "text/plain": [
       "2054"
      ]
     },
     "execution_count": 121,
     "metadata": {},
     "output_type": "execute_result"
    }
   ],
   "source": [
    "# active reactions\n",
    "active_reactions = fva_result[(fva_result.minimum != 0) | (fva_result.maximum != 0)]\n",
    "\n",
    "len(active_reactions)"
   ]
  },
  {
   "cell_type": "markdown",
   "metadata": {},
   "source": [
    "approximately 2054 reactions are active"
   ]
  },
  {
   "cell_type": "code",
   "execution_count": 122,
   "metadata": {},
   "outputs": [
    {
     "data": {
      "text/plain": [
       "1735"
      ]
     },
     "execution_count": 122,
     "metadata": {},
     "output_type": "execute_result"
    }
   ],
   "source": [
    "# determine how many active genes have an associated gene \n",
    "count=0\n",
    "for reac in active_reactions.index:\n",
    "    if ecoli.reactions.get_by_id(reac).gene_reaction_rule!=\"\":\n",
    "        count+=1\n",
    "count"
   ]
  },
  {
   "cell_type": "markdown",
   "metadata": {},
   "source": [
    "1735 of the active genes have an associated gene "
   ]
  },
  {
   "cell_type": "code",
   "execution_count": null,
   "metadata": {},
   "outputs": [],
   "source": []
  },
  {
   "cell_type": "markdown",
   "metadata": {},
   "source": [
    "### calculating percentages of active reactions with gene ranges returned from FluxRETAP"
   ]
  },
  {
   "cell_type": "code",
   "execution_count": 123,
   "metadata": {},
   "outputs": [
    {
     "data": {
      "text/plain": [
       "50.60518731988473"
      ]
     },
     "execution_count": 123,
     "metadata": {},
     "output_type": "execute_result"
    }
   ],
   "source": [
    "## highest percent of potentially active reactions returned by FluxRETAP.\n",
    "\n",
    "878/1735*100\n",
    "# 878 is the highest number of active reactions returned in the E. coli model\n",
    "# 1735 is the number of total possible active reactions"
   ]
  },
  {
   "cell_type": "code",
   "execution_count": 124,
   "metadata": {},
   "outputs": [
    {
     "data": {
      "text/plain": [
       "2.6512968299711814"
      ]
     },
     "execution_count": 124,
     "metadata": {},
     "output_type": "execute_result"
    }
   ],
   "source": [
    "## lowest percent of potentially active reactions returned by FluxRETAP.\n",
    "\n",
    "46/1735*100\n",
    "# 46 is the highest number of active reactions returned in the E. coli model\n",
    "# 1735 is the number of total possible active reactions"
   ]
  },
  {
   "cell_type": "markdown",
   "metadata": {},
   "source": [
    "## *P. putida*"
   ]
  },
  {
   "cell_type": "code",
   "execution_count": 125,
   "metadata": {},
   "outputs": [
    {
     "data": {
      "text/html": [
       "<div>\n",
       "<style scoped>\n",
       "    .dataframe tbody tr th:only-of-type {\n",
       "        vertical-align: middle;\n",
       "    }\n",
       "\n",
       "    .dataframe tbody tr th {\n",
       "        vertical-align: top;\n",
       "    }\n",
       "\n",
       "    .dataframe thead th {\n",
       "        text-align: right;\n",
       "    }\n",
       "</style>\n",
       "<table border=\"1\" class=\"dataframe\">\n",
       "  <thead>\n",
       "    <tr style=\"text-align: right;\">\n",
       "      <th></th>\n",
       "      <th>cases</th>\n",
       "      <th>Ecoli</th>\n",
       "      <th>putida</th>\n",
       "      <th>Scere</th>\n",
       "    </tr>\n",
       "  </thead>\n",
       "  <tbody>\n",
       "    <tr>\n",
       "      <th>0</th>\n",
       "      <td>no restrictions</td>\n",
       "      <td>[942, 869]</td>\n",
       "      <td>[939, 758]</td>\n",
       "      <td>[530, 359]</td>\n",
       "    </tr>\n",
       "    <tr>\n",
       "      <th>1</th>\n",
       "      <td>50% bio</td>\n",
       "      <td>[945, 872]</td>\n",
       "      <td>[940, 762]</td>\n",
       "      <td>[536, 364]</td>\n",
       "    </tr>\n",
       "    <tr>\n",
       "      <th>2</th>\n",
       "      <td>10% bio</td>\n",
       "      <td>[946, 873]</td>\n",
       "      <td>[940, 757]</td>\n",
       "      <td>[549, 371]</td>\n",
       "    </tr>\n",
       "    <tr>\n",
       "      <th>3</th>\n",
       "      <td>90% bio</td>\n",
       "      <td>[942, 869]</td>\n",
       "      <td>[941, 763]</td>\n",
       "      <td>[535, 360]</td>\n",
       "    </tr>\n",
       "    <tr>\n",
       "      <th>4</th>\n",
       "      <td>fluxRangeDiff 0.01</td>\n",
       "      <td>[320, 301]</td>\n",
       "      <td>[364, 308]</td>\n",
       "      <td>[83, 55]</td>\n",
       "    </tr>\n",
       "    <tr>\n",
       "      <th>5</th>\n",
       "      <td>fluxRangeDiff 0.05</td>\n",
       "      <td>[66, 61]</td>\n",
       "      <td>[72, 66]</td>\n",
       "      <td>[41, 24]</td>\n",
       "    </tr>\n",
       "    <tr>\n",
       "      <th>6</th>\n",
       "      <td>fluxRangeDiff 0.10</td>\n",
       "      <td>[50, 46]</td>\n",
       "      <td>[49, 44]</td>\n",
       "      <td>[31, 15]</td>\n",
       "    </tr>\n",
       "    <tr>\n",
       "      <th>7</th>\n",
       "      <td>rxnRef 500</td>\n",
       "      <td>[112, 107]</td>\n",
       "      <td>[150, 140]</td>\n",
       "      <td>[138, 104]</td>\n",
       "    </tr>\n",
       "    <tr>\n",
       "      <th>8</th>\n",
       "      <td>rxnRef 1500</td>\n",
       "      <td>[56, 54]</td>\n",
       "      <td>[50, 45]</td>\n",
       "      <td>[50, 41]</td>\n",
       "    </tr>\n",
       "    <tr>\n",
       "      <th>9</th>\n",
       "      <td>rxnRef 5000</td>\n",
       "      <td>[41, 38]</td>\n",
       "      <td>[39, 33]</td>\n",
       "      <td>[42, 33]</td>\n",
       "    </tr>\n",
       "    <tr>\n",
       "      <th>10</th>\n",
       "      <td>N=100</td>\n",
       "      <td>[944, 871]</td>\n",
       "      <td>[939, 760]</td>\n",
       "      <td>[538, 364]</td>\n",
       "    </tr>\n",
       "    <tr>\n",
       "      <th>11</th>\n",
       "      <td>N=1000</td>\n",
       "      <td>[948, 875]</td>\n",
       "      <td>[947, 764]</td>\n",
       "      <td>[538, 361]</td>\n",
       "    </tr>\n",
       "  </tbody>\n",
       "</table>\n",
       "</div>"
      ],
      "text/plain": [
       "                 cases       Ecoli      putida       Scere\n",
       "0      no restrictions  [942, 869]  [939, 758]  [530, 359]\n",
       "1              50% bio  [945, 872]  [940, 762]  [536, 364]\n",
       "2              10% bio  [946, 873]  [940, 757]  [549, 371]\n",
       "3              90% bio  [942, 869]  [941, 763]  [535, 360]\n",
       "4   fluxRangeDiff 0.01  [320, 301]  [364, 308]    [83, 55]\n",
       "5   fluxRangeDiff 0.05    [66, 61]    [72, 66]    [41, 24]\n",
       "6   fluxRangeDiff 0.10    [50, 46]    [49, 44]    [31, 15]\n",
       "7           rxnRef 500  [112, 107]  [150, 140]  [138, 104]\n",
       "8          rxnRef 1500    [56, 54]    [50, 45]    [50, 41]\n",
       "9          rxnRef 5000    [41, 38]    [39, 33]    [42, 33]\n",
       "10               N=100  [944, 871]  [939, 760]  [538, 364]\n",
       "11              N=1000  [948, 875]  [947, 764]  [538, 361]"
      ]
     },
     "execution_count": 125,
     "metadata": {},
     "output_type": "execute_result"
    }
   ],
   "source": [
    "results"
   ]
  },
  {
   "cell_type": "code",
   "execution_count": 126,
   "metadata": {},
   "outputs": [
    {
     "data": {
      "text/plain": [
       "2060"
      ]
     },
     "execution_count": 126,
     "metadata": {},
     "output_type": "execute_result"
    }
   ],
   "source": [
    "# count the number of reactions with genes \n",
    "count=0\n",
    "for reac in putida.reactions:\n",
    "    if reac.gene_reaction_rule!=\"\":\n",
    "        count+=1\n",
    "count"
   ]
  },
  {
   "cell_type": "code",
   "execution_count": 127,
   "metadata": {},
   "outputs": [],
   "source": [
    "# perform FVA to determine how many reactions are active during growth\n",
    "fva_result = fva(putida)\n"
   ]
  },
  {
   "cell_type": "code",
   "execution_count": 128,
   "metadata": {},
   "outputs": [
    {
     "data": {
      "text/plain": [
       "2058"
      ]
     },
     "execution_count": 128,
     "metadata": {},
     "output_type": "execute_result"
    }
   ],
   "source": [
    "# active reactions\n",
    "active_reactions = fva_result[(fva_result.minimum != 0) | (fva_result.maximum != 0)]\n",
    "len(active_reactions)"
   ]
  },
  {
   "cell_type": "code",
   "execution_count": 129,
   "metadata": {},
   "outputs": [
    {
     "data": {
      "text/plain": [
       "1582"
      ]
     },
     "execution_count": 129,
     "metadata": {},
     "output_type": "execute_result"
    }
   ],
   "source": [
    "# determine how many active genes have an associated gene \n",
    "count=0\n",
    "for reac in active_reactions.index:\n",
    "    if putida.reactions.get_by_id(reac).gene_reaction_rule!=\"\":\n",
    "        count+=1\n",
    "count"
   ]
  },
  {
   "cell_type": "markdown",
   "metadata": {},
   "source": [
    "### calculating percentages of active reactions with gene ranges returned from FluxRETAP"
   ]
  },
  {
   "cell_type": "code",
   "execution_count": 130,
   "metadata": {},
   "outputs": [
    {
     "data": {
      "text/plain": [
       "48.83866917765223"
      ]
     },
     "execution_count": 130,
     "metadata": {},
     "output_type": "execute_result"
    }
   ],
   "source": [
    "## highest percent of potentially active reactions returned by FluxRETAP\n",
    "\n",
    "778/1593*100\n",
    "# 778 is the highest number of active reactions returned in the P. putida model\n",
    "# 1593 is the number of total possible active reactions"
   ]
  },
  {
   "cell_type": "code",
   "execution_count": 131,
   "metadata": {},
   "outputs": [
    {
     "data": {
      "text/plain": [
       "1.8832391713747645"
      ]
     },
     "execution_count": 131,
     "metadata": {},
     "output_type": "execute_result"
    }
   ],
   "source": [
    "## lowest percent of potentially active reactions returned by FluxRETAP\n",
    "\n",
    "30/1593*100\n",
    "# 30 is the highest number of active reactions returned in the P. putida model\n",
    "# 1593 is the number of total possible active reactions"
   ]
  },
  {
   "cell_type": "code",
   "execution_count": null,
   "metadata": {},
   "outputs": [],
   "source": []
  },
  {
   "cell_type": "code",
   "execution_count": null,
   "metadata": {},
   "outputs": [],
   "source": []
  },
  {
   "cell_type": "markdown",
   "metadata": {},
   "source": [
    "## *S. cerevisiae*"
   ]
  },
  {
   "cell_type": "code",
   "execution_count": 132,
   "metadata": {},
   "outputs": [
    {
     "data": {
      "text/plain": [
       "1043"
      ]
     },
     "execution_count": 132,
     "metadata": {},
     "output_type": "execute_result"
    }
   ],
   "source": [
    "# count the number of reactions with genes \n",
    "count=0\n",
    "for reac in Scerevisiae.reactions:\n",
    "    if reac.gene_reaction_rule!=\"\":\n",
    "        count+=1\n",
    "count"
   ]
  },
  {
   "cell_type": "code",
   "execution_count": 133,
   "metadata": {},
   "outputs": [],
   "source": [
    "# perform FVA to determine how many reactions are active during growth\n",
    "fva_result = fva(Scerevisiae)\n"
   ]
  },
  {
   "cell_type": "code",
   "execution_count": 134,
   "metadata": {},
   "outputs": [
    {
     "data": {
      "text/plain": [
       "1206"
      ]
     },
     "execution_count": 134,
     "metadata": {},
     "output_type": "execute_result"
    }
   ],
   "source": [
    "# active reactions\n",
    "active_reactions = fva_result[(fva_result.minimum != 0) | (fva_result.maximum != 0)]\n",
    "len(active_reactions)"
   ]
  },
  {
   "cell_type": "code",
   "execution_count": 135,
   "metadata": {},
   "outputs": [
    {
     "data": {
      "text/plain": [
       "799"
      ]
     },
     "execution_count": 135,
     "metadata": {},
     "output_type": "execute_result"
    }
   ],
   "source": [
    "# determine how many active genes have an associated gene \n",
    "count=0\n",
    "for reac in active_reactions.index:\n",
    "    if Scerevisiae.reactions.get_by_id(reac).gene_reaction_rule!=\"\":\n",
    "        count+=1\n",
    "count"
   ]
  },
  {
   "cell_type": "markdown",
   "metadata": {},
   "source": [
    "### calculating percentages of active reactions with gene ranges returned from FluxRETAP"
   ]
  },
  {
   "cell_type": "code",
   "execution_count": 136,
   "metadata": {},
   "outputs": [
    {
     "data": {
      "text/plain": [
       "46.057571964956196"
      ]
     },
     "execution_count": 136,
     "metadata": {},
     "output_type": "execute_result"
    }
   ],
   "source": [
    "## highest percent of potentially active reactions returned by FluxRETAP\n",
    "\n",
    "368/799*100\n",
    "# 368 is the highest number of active reactions returned in the S. cerevisiae model\n",
    "# 799 is the number of total possible active reactions"
   ]
  },
  {
   "cell_type": "code",
   "execution_count": 137,
   "metadata": {},
   "outputs": [
    {
     "data": {
      "text/plain": [
       "1.877346683354193"
      ]
     },
     "execution_count": 137,
     "metadata": {},
     "output_type": "execute_result"
    }
   ],
   "source": [
    "## highest percent of potentially active reactions returned by FluxRETAP\n",
    "\n",
    "15/799*100\n",
    "# 15 is the highest number of active reactions returned in the S. cerevisiae model\n",
    "# 799 is the number of total possible active reactions"
   ]
  },
  {
   "cell_type": "code",
   "execution_count": null,
   "metadata": {},
   "outputs": [],
   "source": []
  }
 ],
 "metadata": {
  "kernelspec": {
   "display_name": "Python [conda env:FluxRETAP]",
   "language": "python",
   "name": "conda-env-FluxRETAP-py"
  },
  "language_info": {
   "codemirror_mode": {
    "name": "ipython",
    "version": 3
   },
   "file_extension": ".py",
   "mimetype": "text/x-python",
   "name": "python",
   "nbconvert_exporter": "python",
   "pygments_lexer": "ipython3",
   "version": "3.11.0"
  }
 },
 "nbformat": 4,
 "nbformat_minor": 4
}
